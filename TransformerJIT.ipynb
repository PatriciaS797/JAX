{
  "nbformat": 4,
  "nbformat_minor": 0,
  "metadata": {
    "colab": {
      "provenance": []
    },
    "kernelspec": {
      "name": "python3",
      "display_name": "Python 3"
    },
    "language_info": {
      "name": "python"
    }
  },
  "cells": [
    {
      "cell_type": "code",
      "source": [
        "pip install jax"
      ],
      "metadata": {
        "colab": {
          "base_uri": "https://localhost:8080/"
        },
        "id": "YIyWamZ_vQR4",
        "outputId": "10329f14-c523-4c0c-bda9-c5fd68fc9ca2"
      },
      "execution_count": null,
      "outputs": [
        {
          "output_type": "stream",
          "name": "stdout",
          "text": [
            "Requirement already satisfied: jax in /usr/local/lib/python3.11/dist-packages (0.5.2)\n",
            "Requirement already satisfied: jaxlib<=0.5.2,>=0.5.1 in /usr/local/lib/python3.11/dist-packages (from jax) (0.5.1)\n",
            "Requirement already satisfied: ml_dtypes>=0.4.0 in /usr/local/lib/python3.11/dist-packages (from jax) (0.4.1)\n",
            "Requirement already satisfied: numpy>=1.25 in /usr/local/lib/python3.11/dist-packages (from jax) (2.0.2)\n",
            "Requirement already satisfied: opt_einsum in /usr/local/lib/python3.11/dist-packages (from jax) (3.4.0)\n",
            "Requirement already satisfied: scipy>=1.11.1 in /usr/local/lib/python3.11/dist-packages (from jax) (1.15.2)\n"
          ]
        }
      ]
    },
    {
      "cell_type": "code",
      "execution_count": null,
      "metadata": {
        "colab": {
          "base_uri": "https://localhost:8080/"
        },
        "id": "HuoCT5LLvONu",
        "outputId": "c0f7d1a8-57f5-4151-c412-730eaaf11148"
      },
      "outputs": [
        {
          "output_type": "stream",
          "name": "stdout",
          "text": [
            "Tiempo de compilación: 2.256962 s\n",
            "Tiempo de ejecución (compilado): 0.659483 s\n"
          ]
        }
      ],
      "source": [
        "import jax\n",
        "import jax.numpy as jnp\n",
        "import time\n",
        "from functools import partial\n",
        "import jax.lax as lax\n",
        "# ====== BLOQUES COMO FUNCIONES ======\n",
        "\n",
        "def matmul_qkv(WQ, WK, WV, EI):\n",
        "    Q = WQ @ EI\n",
        "    K = WK @ EI\n",
        "    V = WV @ EI\n",
        "    return Q, K, V\n",
        "\n",
        "def attention_per_head(K, Q, V, l, ddh, b, h):\n",
        "    lb = l*b\n",
        "    E2 = jnp.zeros((K.shape[0], lb), dtype=K.dtype)\n",
        "\n",
        "    def process_single_head(E2, idx):\n",
        "        j, i = idx // h, idx % h\n",
        "        indJ = j*l\n",
        "        indI2 = i*ddh\n",
        "        # E1 = (K^T) @ Q\n",
        "\n",
        "        K_slice = lax.dynamic_slice(K, (indI2, indJ), (ddh, l))  # (rows, cols)\n",
        "        Q_slice = lax.dynamic_slice(Q, (indI2, indJ), (ddh, l))\n",
        "        E1 = K_slice.transpose() @ Q_slice\n",
        "        # E2 = V @ E1\n",
        "        V_slice = lax.dynamic_slice(V, (indI2, indJ), (ddh, l))\n",
        "        result = V_slice @ E1\n",
        "        E2 = lax.dynamic_update_slice(E2, result, (indI2, indJ))\n",
        "\n",
        "        return E2, None\n",
        "\n",
        "    E2_init = jnp.zeros((d, lb), dtype=jnp.float32)\n",
        "    idxs = jnp.arange(b * h)\n",
        "    E2, _ = lax.scan(process_single_head, E2_init, idxs)\n",
        "\n",
        "    return E2\n",
        "\n",
        "def mha_output(WO, E2, EI):\n",
        "    return EI + WO @ E2\n",
        "\n",
        "def ffn_forward(W1, W2, AO):\n",
        "    E3 = W1 @ AO\n",
        "    EO = AO + W2 @ E3\n",
        "    return EO\n",
        "\n",
        "# ====== FUNCION PRINCIPAL ======\n",
        "@partial(jax.jit, static_argnums=(0,1,2,3,4))\n",
        "def transformer_block_jax(b, l, d, h, f, EI, WQ, WK, WV, WO, W1, W2):\n",
        "    lb = l*b\n",
        "    ddh = d // h\n",
        "\n",
        "    Q, K, V = matmul_qkv(WQ, WK, WV, EI)\n",
        "    E2 = attention_per_head(K, Q, V, l, ddh, b, h)\n",
        "    AO = mha_output(WO, E2, EI)\n",
        "    EO = ffn_forward(W1, W2, AO)\n",
        "\n",
        "    return EO\n",
        "\n",
        "def generate_transformer_block_jax(b, l, d, h, f, key):\n",
        "    lb  = l*b\n",
        "    k1, k2, k3, k4, k5, k6, k7 = jax.random.split(key, 7)\n",
        "\n",
        "    EI = jax.random.uniform(k1, (d, lb), minval=-0.5, maxval=0.5)\n",
        "    WQ = jax.random.uniform(k2, (d, d), minval=-0.5, maxval=0.5)\n",
        "    WK = jax.random.uniform(k3, (d, d), minval=-0.5, maxval=0.5)\n",
        "    WV = jax.random.uniform(k4, (d, d), minval=-0.5, maxval=0.5)\n",
        "    WO = jax.random.uniform(k5, (d, d), minval=-0.5, maxval=0.5)\n",
        "    W1 = jax.random.uniform(k6, (f, d), minval=-0.5, maxval=0.5)\n",
        "    W2 = jax.random.uniform(k7, (d, f), minval=-0.5, maxval=0.5)\n",
        "\n",
        "    return EI, WQ, WK, WV, WO, W1, W2\n",
        "\n",
        "# ====== USO FINAL ======\n",
        "\n",
        "b = 32\n",
        "l = 128\n",
        "d = 1024\n",
        "h = 16\n",
        "f = 4 * d\n",
        "key = jax.random.PRNGKey(0)\n",
        "\n",
        "start_compilado = time.time()\n",
        "EI, WQ, WK, WV, WO, W1, W2 = generate_transformer_block_jax(b, l, d, h, f, key)\n",
        "end_compilado = time.time()\n",
        "\n",
        "print(f\"Tiempo de compilación: {end_compilado-start_compilado:.6f} s\")\n",
        "start = time.time()\n",
        "EO = transformer_block_jax(b, l, d, h, f, EI, WQ, WK, WV, WO, W1, W2)\n",
        "end = time.time()\n",
        "\n",
        "print(f\"Tiempo de ejecución (compilado): {end-start:.6f} s\")\n"
      ]
    }
  ]
}