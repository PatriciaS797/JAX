{
  "nbformat": 4,
  "nbformat_minor": 0,
  "metadata": {
    "colab": {
      "provenance": []
    },
    "kernelspec": {
      "name": "python3",
      "display_name": "Python 3"
    },
    "language_info": {
      "name": "python"
    }
  },
  "cells": [
    {
      "cell_type": "code",
      "source": [
        "pip install -U jax"
      ],
      "metadata": {
        "id": "SJ5iV4DqvyIU",
        "colab": {
          "base_uri": "https://localhost:8080/"
        },
        "outputId": "b8480391-a4bb-4a6f-ac5c-3c5f0fae28f7"
      },
      "execution_count": 1,
      "outputs": [
        {
          "output_type": "stream",
          "name": "stdout",
          "text": [
            "Requirement already satisfied: jax in /usr/local/lib/python3.12/dist-packages (0.7.1)\n",
            "Requirement already satisfied: jaxlib<=0.7.1,>=0.7.1 in /usr/local/lib/python3.12/dist-packages (from jax) (0.7.1)\n",
            "Requirement already satisfied: ml_dtypes>=0.5.0 in /usr/local/lib/python3.12/dist-packages (from jax) (0.5.3)\n",
            "Requirement already satisfied: numpy>=1.26 in /usr/local/lib/python3.12/dist-packages (from jax) (2.0.2)\n",
            "Requirement already satisfied: opt_einsum in /usr/local/lib/python3.12/dist-packages (from jax) (3.4.0)\n",
            "Requirement already satisfied: scipy>=1.12 in /usr/local/lib/python3.12/dist-packages (from jax) (1.16.1)\n"
          ]
        }
      ]
    },
    {
      "cell_type": "code",
      "source": [
        "import jax\n",
        "import jax.numpy as jnp\n",
        "\n",
        "from jax import random\n",
        "import jax.lax as lax\n",
        "import cupy as cp\n",
        "import pandas as pd\n",
        "\n",
        "import numpy as np\n",
        "\n",
        "import platform\n",
        "import cpuinfo\n",
        "\n",
        "import matplotlib.pyplot as plt"
      ],
      "metadata": {
        "id": "6oNkQwdl4cO9",
        "collapsed": true,
        "colab": {
          "base_uri": "https://localhost:8080/"
        },
        "outputId": "8a51fe53-1e19-41f9-8e2e-fa6250830fee"
      },
      "execution_count": 2,
      "outputs": [
        {
          "output_type": "stream",
          "name": "stderr",
          "text": [
            "/usr/local/lib/python3.12/dist-packages/jaxlib/plugin_support.py:71: RuntimeWarning: JAX plugin jax_cuda12_plugin version 0.5.3 is installed, but it is not compatible with the installed jaxlib version 0.7.1, so it will not be used.\n",
            "  warnings.warn(\n"
          ]
        }
      ]
    },
    {
      "cell_type": "code",
      "source": [
        "\n",
        "\n",
        "print(\"CPU:\", platform.processor())\n",
        "print(\"CPU info:\", cpuinfo.get_cpu_info()['brand_raw'])\n"
      ],
      "metadata": {
        "id": "7XyRHhe1I2wZ",
        "colab": {
          "base_uri": "https://localhost:8080/"
        },
        "outputId": "b8f1ad55-c191-4637-ae6a-41883af56281"
      },
      "execution_count": 3,
      "outputs": [
        {
          "output_type": "stream",
          "name": "stdout",
          "text": [
            "CPU: x86_64\n",
            "CPU info: Intel(R) Xeon(R) CPU @ 2.20GHz\n"
          ]
        }
      ]
    },
    {
      "cell_type": "code",
      "source": [
        "\n",
        "def gelu_np(x):\n",
        "    return 0.5 * x * (1 + np.tanh(np.sqrt(2 / np.pi) * (x + 0.044715 * x**3)))\n",
        "\n",
        "\n",
        "def lnorm_np(x, eps=1e-5):\n",
        "    mean = np.mean(x, axis=0, keepdims=True)\n",
        "    var = np.var(x, axis=0, keepdims=True)\n",
        "    return (x - mean) / np.sqrt(var + eps)\n",
        "\n",
        "\n",
        "\n",
        "def softmax_np(x, axis=-1):\n",
        "\n",
        "    x_max = np.max(x, axis=axis, keepdims=True)\n",
        "    e_x = np.exp(x - x_max)\n",
        "    return e_x / np.sum(e_x, axis=axis, keepdims=True)\n",
        "\n",
        "\n",
        "def matmul_np(a, b):\n",
        "    return a @ b\n",
        "\n",
        "\n",
        "def attention_per_head_np(K, Q, V, l_total, ddh, b, h):\n",
        "    lb = l_total * b\n",
        "    d = K.shape[0]\n",
        "    E2 = np.zeros((d, lb), dtype=np.float32)\n",
        "\n",
        "    for j in range(b):\n",
        "        for i in range(h):\n",
        "            indJ = j * l_total\n",
        "            indI2 = i * ddh\n",
        "\n",
        "            K_slice = K[indI2:indI2+ddh, indJ:indJ+l_total]\n",
        "            Q_slice = Q[indI2:indI2+ddh, indJ:indJ+l_total]\n",
        "            V_slice = V[indI2:indI2+ddh, indJ:indJ+l_total]\n",
        "\n",
        "            scores = K_slice.T @ Q_slice / np.sqrt(ddh)\n",
        "            E1 = softmax_np(scores, axis=0)\n",
        "\n",
        "            result = V_slice @ E1\n",
        "            E2[indI2:indI2+ddh, indJ:indJ+l_total] = result\n",
        "\n",
        "    return E2\n",
        "\n",
        "\n",
        "def mha_output_np(WO, E2, EI):\n",
        "    AO = WO @ E2 + EI\n",
        "    AO = lnorm_np(AO)\n",
        "    return AO\n",
        "\n",
        "def ffn_forward_np(W1, W2, AO):\n",
        "    E3b = W1 @ AO\n",
        "    E3 = gelu_np(E3b)\n",
        "    EOb = W2 @ E3\n",
        "    EO = lnorm_np(EOb + AO)\n",
        "    return EO\n"
      ],
      "metadata": {
        "id": "AVqHpYZC3nl5"
      },
      "execution_count": 4,
      "outputs": []
    },
    {
      "cell_type": "code",
      "source": [
        "\n",
        "def matmul_jax(a, b):\n",
        "    result = a @ b\n",
        "    return result\n",
        "\n",
        "def attention_per_head_jax(K, Q, V, l, ddh, b, h):\n",
        "    lb = l*b\n",
        "    E2 = jnp.zeros((K.shape[0], lb), dtype=jnp.float32)\n",
        "\n",
        "    def softmax(x, axis=-1):\n",
        "        x_max = jnp.max(x, axis=axis, keepdims=True)\n",
        "        e_x = jnp.exp(x - x_max)\n",
        "        return e_x / jnp.sum(e_x, axis=axis, keepdims=True)\n",
        "\n",
        "    def process_single_head(E2, idx):\n",
        "        j, i = idx // h, idx % h\n",
        "        indJ = j*l\n",
        "        indI2 = i*ddh\n",
        "\n",
        "        K_slice = lax.dynamic_slice(K, (indI2, indJ), (ddh, l)).astype(jnp.float32)\n",
        "        Q_slice = lax.dynamic_slice(Q, (indI2, indJ), (ddh, l)).astype(jnp.float32)\n",
        "        E1 = K_slice.T @ Q_slice\n",
        "        E1 = E1 / jnp.sqrt(ddh)\n",
        "        E1_normalized = softmax(E1, axis=0)\n",
        "        V_slice = lax.dynamic_slice(V, (indI2, indJ), (ddh, l)).astype(jnp.float32)\n",
        "        result = V_slice @ E1_normalized\n",
        "\n",
        "        E2 = lax.dynamic_update_slice(E2, result, (indI2, indJ))\n",
        "        return E2, None\n",
        "\n",
        "    E2_init = jnp.zeros((d, lb), dtype=jnp.float32)\n",
        "    idxs = jnp.arange(b * h)\n",
        "    E2, _ = lax.scan(process_single_head, E2_init, idxs)\n",
        "\n",
        "    return E2\n",
        "\n",
        "def lnorm_jax(x, eps=1e-5):\n",
        "    mean = jnp.mean(x, axis=0, keepdims=True)\n",
        "    var = jnp.var(x, axis=0, keepdims=True)\n",
        "    return (x - mean) / jnp.sqrt(var + eps)\n",
        "\n",
        "\n",
        "def mha_output_jax(WO, E2, EI):\n",
        "    AO = EI + WO @ E2\n",
        "    AO= lnorm_jax(AO)\n",
        "    return AO\n",
        "\n",
        "def gelu_jax(x):\n",
        "    return 0.5 * x * (1 + jnp.tanh(jnp.sqrt(2 / jnp.pi) * (x + 0.044715 * x**3)))\n",
        "\n",
        "\n",
        "def ffn_forward_jax(W1, W2, AO):\n",
        "    E3b = W1 @ AO\n",
        "    E3 = gelu_jax(E3b)\n",
        "    EOb = W2 @ E3\n",
        "    EO = lnorm_jax(EOb + AO)\n",
        "    return EO\n",
        "\n",
        "\n",
        "b = 24\n",
        "l = 128\n",
        "d = 1024\n",
        "h = 16\n",
        "\n",
        "\n",
        "f = 4 * d\n",
        "ddh = d // h\n",
        "lb = b * l\n",
        "\n"
      ],
      "metadata": {
        "id": "4moC7HwQ4ZhS"
      },
      "execution_count": 5,
      "outputs": []
    },
    {
      "cell_type": "code",
      "source": [
        "\n",
        "key = jax.random.PRNGKey(0)\n",
        "keys = jax.random.split(key, 7)\n",
        "\n",
        "EI = (jax.random.uniform(keys[0], (d, lb), dtype=jnp.float32) )\n",
        "WQ = (jax.random.uniform(keys[1], (d, d), dtype=jnp.float32) )\n",
        "WK = (jax.random.uniform(keys[2], (d, d), dtype=jnp.float32) )\n",
        "WV = (jax.random.uniform(keys[3], (d, d), dtype=jnp.float32) )\n",
        "WO = (jax.random.uniform(keys[4], (d, d), dtype=jnp.float32) )\n",
        "W1 = (jax.random.uniform(keys[5], (f, d), dtype=jnp.float32) )\n",
        "W2 = (jax.random.uniform(keys[6], (d, f), dtype=jnp.float32) )\n",
        "\n",
        "EI_np, WQ_np, WK_np, WV_np, WO_np, W1_np, W2_np = map(np.array, [EI, WQ, WK, WV, WO, W1, W2])\n"
      ],
      "metadata": {
        "id": "CmMD86Jo5MAE"
      },
      "execution_count": 6,
      "outputs": []
    },
    {
      "cell_type": "code",
      "source": [
        "# NumPy\n",
        "import time\n",
        "\n",
        "results={}\n",
        "results[\"NumPy\"] = {}\n",
        "Qc = matmul_np(WQ_np, EI_np)\n",
        "\n",
        "start = time.time()\n",
        "Qc = matmul_np(WQ_np, EI_np)\n",
        "\n",
        "end = time.time()\n",
        "results[\"NumPy\"][\"matmul_Q\"] = end - start\n",
        "\n",
        "start = time.time()\n",
        "Kc = matmul_np(WK_np, EI_np)\n",
        "\n",
        "end = time.time()\n",
        "results[\"NumPy\"][\"matmul_K\"] = end - start\n",
        "\n",
        "start = time.time()\n",
        "Vc = matmul_np(WV_np, EI_np)\n",
        "\n",
        "end = time.time()\n",
        "results[\"NumPy\"][\"matmul_V\"] = end - start\n",
        "\n",
        "start = time.time()\n",
        "E2n = attention_per_head_np(Kc, Qc, Vc, l, ddh, b, h)\n",
        "\n",
        "end = time.time()\n",
        "results[\"NumPy\"][\"attention\"] = end - start\n",
        "\n",
        "start = time.time()\n",
        "AOc = mha_output_np(WO_np, E2n, EI_np)\n",
        "\n",
        "end = time.time()\n",
        "results[\"NumPy\"][\"mha_output\"] = end - start\n",
        "\n",
        "start = time.time()\n",
        "EOc = ffn_forward_np(W1_np, W2_np, AOc)\n",
        "\n",
        "end = time.time()\n",
        "results[\"NumPy\"][\"ffn\"] = end - start\n",
        "\n",
        "results[\"NumPy\"][\"total\"] = sum(results[\"NumPy\"].values())"
      ],
      "metadata": {
        "id": "eLeKFRau294p"
      },
      "execution_count": 7,
      "outputs": []
    },
    {
      "cell_type": "code",
      "source": [
        "print(results[\"NumPy\"])"
      ],
      "metadata": {
        "id": "e_IaD9Xl7Xe3",
        "colab": {
          "base_uri": "https://localhost:8080/"
        },
        "outputId": "47ce17de-91a0-4a23-ea56-6ff6d45f669e"
      },
      "execution_count": 8,
      "outputs": [
        {
          "output_type": "stream",
          "name": "stdout",
          "text": [
            "{'matmul_Q': 0.3700251579284668, 'matmul_K': 0.28078198432922363, 'matmul_V': 0.3179042339324951, 'attention': 2.6154532432556152, 'mha_output': 0.24192094802856445, 'ffn': 4.261523246765137, 'total': 8.087608814239502}\n"
          ]
        }
      ]
    },
    {
      "cell_type": "code",
      "source": [
        "\n",
        "# JAX without JIT\n",
        "results[\"JAX\"] = {}\n",
        "\n",
        "\n",
        "Qj = matmul_jax(WQ,  EI).block_until_ready()\n",
        "start = time.time()\n",
        "Qj = matmul_jax(WQ,  EI).block_until_ready()\n",
        "end = time.time()\n",
        "results[\"JAX\"][\"matmul_Q\"] = end - start\n",
        "\n",
        "start = time.time()\n",
        "Kj = matmul_jax(WK,  EI).block_until_ready()\n",
        "end = time.time()\n",
        "results[\"JAX\"][\"matmul_K\"] = end - start\n",
        "\n",
        "start = time.time()\n",
        "Vj = matmul_jax(WV,  EI).block_until_ready()\n",
        "end = time.time()\n",
        "results[\"JAX\"][\"matmul_V\"] = end - start\n",
        "\n",
        "start = time.time()\n",
        "E2j = attention_per_head_jax(Kj, Qj, Vj, l, ddh, b, h).block_until_ready()\n",
        "end = time.time()\n",
        "results[\"JAX\"][\"attention\"] = end - start\n",
        "\n",
        "start = time.time()\n",
        "AOj = mha_output_jax(WO, E2j, EI).block_until_ready()\n",
        "end = time.time()\n",
        "results[\"JAX\"][\"mha_output\"] = end - start\n",
        "\n",
        "start = time.time()\n",
        "EOj = ffn_forward_jax(W1, W2, AOj).block_until_ready()\n",
        "end = time.time()\n",
        "results[\"JAX\"][\"ffn\"] = end - start\n",
        "\n",
        "results[\"JAX\"][\"total\"] = sum(results[\"JAX\"].values())\n",
        "\n",
        "print(results[\"JAX\"])\n"
      ],
      "metadata": {
        "id": "3_q9_NcknU5l",
        "colab": {
          "base_uri": "https://localhost:8080/"
        },
        "outputId": "8e90a97e-9bd9-4351-95f2-63f8ef71e205"
      },
      "execution_count": 9,
      "outputs": [
        {
          "output_type": "stream",
          "name": "stdout",
          "text": [
            "{'matmul_Q': 0.22125744819641113, 'matmul_K': 0.2402055263519287, 'matmul_V': 0.12958574295043945, 'attention': 0.9672906398773193, 'mha_output': 0.7910408973693848, 'ffn': 1.755138635635376, 'total': 4.104518890380859}\n"
          ]
        }
      ]
    },
    {
      "cell_type": "code",
      "source": [
        "results[\"JIT-COMP\"] = {}\n",
        "\n",
        "# JIT\n",
        "\n",
        "matmul_jit= jax.jit(matmul_jax)\n",
        "attention_per_head_jit = jax.jit(attention_per_head_jax, static_argnums=(3, 4, 5, 6))\n",
        "mha_output_jit = jax.jit(mha_output_jax)\n",
        "ffn_forward_jit = jax.jit(ffn_forward_jax)\n",
        "\n",
        "\n",
        "\n",
        "start = time.time()\n",
        "Qj = matmul_jit(WQ,  EI).block_until_ready()\n",
        "end = time.time()\n",
        "results[\"JIT-COMP\"][\"matmul_Q\"] = end - start\n",
        "\n",
        "start = time.time()\n",
        "Kj = matmul_jit(WK,  EI).block_until_ready()\n",
        "end = time.time()\n",
        "results[\"JIT-COMP\"][\"matmul_K\"] = end - start\n",
        "\n",
        "start = time.time()\n",
        "\n",
        "Vj = matmul_jit(WV,  EI).block_until_ready()\n",
        "end = time.time()\n",
        "results[\"JIT-COMP\"][\"matmul_V\"] = end - start\n",
        "\n",
        "\n",
        "\n",
        "start_attention=  time.time()\n",
        "E2j = attention_per_head_jit(Kj, Qj, Vj, l, ddh, b, h).block_until_ready()\n",
        "end_attention = time.time()\n",
        "t = end_attention - start_attention\n",
        "results[\"JIT-COMP\"][\"attention\"] = t\n",
        "\n",
        "start_mha_output=  time.time()\n",
        "AOj = mha_output_jit(WO, E2j, EI).block_until_ready()\n",
        "end_mha_output = time.time()\n",
        "t= end_mha_output - start_mha_output\n",
        "results[\"JIT-COMP\"][\"mha_output\"] = t\n",
        "\n",
        "start_ffn=time.time()\n",
        "FFj = ffn_forward_jit(W1, W2, AOj).block_until_ready()\n",
        "end_ffn = time.time()\n",
        "t = end_ffn - start_ffn\n",
        "results[\"JIT-COMP\"][\"ffn\"] = t\n",
        "\n",
        "results[\"JIT-COMP\"][\"total\"] = sum(results[\"JIT-COMP\"].values())\n",
        "\n"
      ],
      "metadata": {
        "id": "ifRJ7B9lnSDy"
      },
      "execution_count": 10,
      "outputs": []
    },
    {
      "cell_type": "code",
      "source": [
        "print(results[\"JIT-COMP\"])"
      ],
      "metadata": {
        "id": "z9rEuqM0bg8U",
        "colab": {
          "base_uri": "https://localhost:8080/"
        },
        "outputId": "1e1d8c8c-319f-42f2-8d6c-086ff66cf893"
      },
      "execution_count": 11,
      "outputs": [
        {
          "output_type": "stream",
          "name": "stdout",
          "text": [
            "{'matmul_Q': 0.1594066619873047, 'matmul_K': 0.15569734573364258, 'matmul_V': 0.2825634479522705, 'attention': 0.7133440971374512, 'mha_output': 0.79115891456604, 'ffn': 1.6666619777679443, 'total': 3.7688324451446533}\n"
          ]
        }
      ]
    },
    {
      "cell_type": "code",
      "source": [
        "# JAX with JIT\n",
        "results[\"JAX-JIT\"] = {}\n",
        "Qj = matmul_jit(WQ,  EI).block_until_ready()\n",
        "start = time.time()\n",
        "Qj = matmul_jit(WQ,  EI).block_until_ready()\n",
        "end = time.time()\n",
        "results[\"JAX-JIT\"][\"matmul_Q\"] = end - start\n",
        "\n",
        "start = time.time()\n",
        "Kj = matmul_jit(WK,  EI).block_until_ready()\n",
        "end = time.time()\n",
        "results[\"JAX-JIT\"][\"matmul_K\"] = end - start\n",
        "\n",
        "start = time.time()\n",
        "Vj = matmul_jit(WV,  EI).block_until_ready()\n",
        "end = time.time()\n",
        "results[\"JAX-JIT\"][\"matmul_V\"] = end - start\n",
        "\n",
        "\n",
        "start_attention=  time.time()\n",
        "E2j = attention_per_head_jit(Kj, Qj, Vj, l, ddh, b, h).block_until_ready()\n",
        "end_attention = time.time()\n",
        "t = end_attention - start_attention\n",
        "results[\"JAX-JIT\"][\"attention\"] = t\n",
        "\n",
        "\n",
        "start_mha_output=  time.time()\n",
        "AOj = mha_output_jit(WO, E2j, EI).block_until_ready()\n",
        "end_mha_output = time.time()\n",
        "t= end_mha_output - start_mha_output\n",
        "results[\"JAX-JIT\"][\"mha_output\"] = t\n",
        "\n",
        "start_ffn=time.time()\n",
        "FFj = ffn_forward_jit(W1, W2, AOj).block_until_ready()\n",
        "end_ffn = time.time()\n",
        "t = end_ffn - start_ffn\n",
        "results[\"JAX-JIT\"][\"ffn\"] = t\n",
        "\n",
        "results[\"JAX-JIT\"][\"total\"] = sum(results[\"JAX-JIT\"].values())"
      ],
      "metadata": {
        "id": "Dv2oezSpqMI3"
      },
      "execution_count": 12,
      "outputs": []
    },
    {
      "cell_type": "code",
      "source": [
        "print(results[\"JAX-JIT\"])"
      ],
      "metadata": {
        "id": "RbIry062bm01",
        "colab": {
          "base_uri": "https://localhost:8080/"
        },
        "outputId": "118a21e0-e6c1-4cbd-b508-de99d3f0cd4b"
      },
      "execution_count": 13,
      "outputs": [
        {
          "output_type": "stream",
          "name": "stdout",
          "text": [
            "{'matmul_Q': 0.10063505172729492, 'matmul_K': 0.10168647766113281, 'matmul_V': 0.10551881790161133, 'attention': 0.05900406837463379, 'mha_output': 0.11359667778015137, 'ffn': 0.853933572769165, 'total': 1.3343746662139893}\n"
          ]
        }
      ]
    },
    {
      "cell_type": "code",
      "source": [
        "print(results.keys())\n"
      ],
      "metadata": {
        "id": "orNYr0dkoBSD",
        "colab": {
          "base_uri": "https://localhost:8080/"
        },
        "outputId": "f4f4e429-0bb2-4369-c014-0b457e32bf01"
      },
      "execution_count": 14,
      "outputs": [
        {
          "output_type": "stream",
          "name": "stdout",
          "text": [
            "dict_keys(['NumPy', 'JAX', 'JIT-COMP', 'JAX-JIT'])\n"
          ]
        }
      ]
    },
    {
      "cell_type": "code",
      "source": [
        "\n",
        "labels = [\"matmul_Q\",\"matmul_K\",\"matmul_V\", \"attention\", \"mha_output\", \"ffn\"]\n",
        "x = np.arange(len(labels))\n",
        "width = 0.20\n",
        "\n",
        "fig, ax = plt.subplots(figsize=(12, 6))\n",
        "\n",
        "\n",
        "ax.bar(x - 1*width, [results[\"NumPy\"][l] for l in labels], width, label='NumPy')\n",
        "ax.bar(x - 0*width, [results[\"JAX\"][l] for l in labels], width, label='JAX')\n",
        "#ax.bar(x + 0.5*width, [results[\"JIT-COMP\"][l] for l in labels], width, label='JIT-COMP')\n",
        "ax.bar(x + 1*width, [results[\"JAX-JIT\"][l] for l in labels], width, label='JAX-JIT')\n",
        "\n",
        "ax.set_ylabel('Time (s)')\n",
        "ax.set_title('Time per function and implementation for encoder using FP32 on CPU')\n",
        "ax.set_xticks(x)\n",
        "ax.set_xticklabels(labels)\n",
        "ax.legend()\n",
        "\n",
        "\n",
        "ax.grid(True, axis='y', linestyle='--', alpha=0.6)\n",
        "plt.tight_layout()\n",
        "\n",
        "plt.show()"
      ],
      "metadata": {
        "id": "FTVlGqDTxA1s",
        "colab": {
          "base_uri": "https://localhost:8080/",
          "height": 607
        },
        "outputId": "61c22f97-33f0-42f0-8768-3d0e71c7276a"
      },
      "execution_count": 15,
      "outputs": [
        {
          "output_type": "display_data",
          "data": {
            "text/plain": [
              "<Figure size 1200x600 with 1 Axes>"
            ],
            "image/png": "[encoded data removed]"
          },
          "metadata": {}
        }
      ]
    },
    {
      "cell_type": "code",
      "source": [
        "\n",
        "\n",
        "\n",
        "labels = [\"NumPy\", \"JAX\",\"JAX-JIT\"]\n",
        "x = np.arange(len(labels))\n",
        "width = 0.6\n",
        "\n",
        "fig, ax = plt.subplots(figsize=(10, 6))\n",
        "\n",
        "ax.bar(x, [results[label][\"total\"] for label in labels], width,\n",
        "       color=['#1f77b4', '#ff7f0e', '#2ca02c', '#d62728'])\n",
        "\n",
        "\n",
        "for i, label in enumerate(labels):\n",
        "    height = results[label][\"total\"]\n",
        "    ax.text(i, height + 0.01 * height, f'{height:.4f}s',\n",
        "            ha='center', va='bottom')\n",
        "\n",
        "ax.set_ylabel('Total time (s)')\n",
        "ax.set_title('Total time per implementation for the encoder using FP32 on CPU')\n",
        "ax.set_xticks(x)\n",
        "ax.set_xticklabels(labels)\n",
        "\n",
        "ax.grid(True, axis='y', linestyle='--', alpha=0.6)\n",
        "plt.tight_layout()\n",
        "\n",
        "\n",
        "plt.show()"
      ],
      "metadata": {
        "id": "sAMIGGIr2j7L",
        "colab": {
          "base_uri": "https://localhost:8080/",
          "height": 607
        },
        "outputId": "a4d4bb31-5f58-49a4-b121-b724322d25f2"
      },
      "execution_count": 17,
      "outputs": [
        {
          "output_type": "display_data",
          "data": {
            "text/plain": [
              "<Figure size 1000x600 with 1 Axes>"
            ],
            "image/png": "[encoded data removed]"
          },
          "metadata": {}
        }
      ]
    },
    {
      "cell_type": "code",
      "source": [
        "\n",
        "implementations = [\"NumPy\", \"JAX\", \"JAX-JIT\"]\n",
        "functions = [\"matmul_Q\", \"matmul_K\", \"matmul_V\", \"attention\", \"mha_output\", \"ffn\"]\n",
        "colors = plt.get_cmap(\"tab20\").colors\n",
        "\n",
        "x = np.arange(len(implementations))\n",
        "width = 0.6\n",
        "\n",
        "fig, ax = plt.subplots(figsize=(12, 6))\n",
        "\n",
        "\n",
        "bottom = np.zeros(len(implementations))\n",
        "\n",
        "\n",
        "for i, func in enumerate(functions):\n",
        "    values = [results[impl][func] for impl in implementations]\n",
        "    ax.bar(x, values, width, label=func, bottom=bottom, color=colors[i])\n",
        "    bottom += values\n",
        "\n",
        "\n",
        "for i, impl in enumerate(implementations):\n",
        "    total = sum(results[impl][func] for func in functions)\n",
        "    ax.text(i, total + 0.01 * total, f'{total:.4f}s', ha='center', va='bottom')\n",
        "\n",
        "ax.set_ylabel('Time (s)')\n",
        "ax.set_title('Stacked times per function for each implementation for the encoder using FP32 on CPU')\n",
        "ax.set_xticks(x)\n",
        "ax.set_xticklabels(implementations)\n",
        "\n",
        "ax.legend(title=\"Functions\", bbox_to_anchor=(1.05, 1), loc='upper left')\n",
        "ax.grid(True, axis='y', linestyle='--', alpha=0.6)\n",
        "plt.tight_layout()\n",
        "\n",
        "plt.show()\n"
      ],
      "metadata": {
        "id": "_8JmRGXLeAc5",
        "colab": {
          "base_uri": "https://localhost:8080/",
          "height": 607
        },
        "outputId": "d7215581-4412-41ad-a722-f8797a804f8e"
      },
      "execution_count": 18,
      "outputs": [
        {
          "output_type": "display_data",
          "data": {
            "text/plain": [
              "<Figure size 1200x600 with 1 Axes>"
            ],
            "image/png": "[encoded data removed]"
          },
          "metadata": {}
        }
      ]
    },
    {
      "cell_type": "code",
      "source": [
        "df = pd.DataFrame(results).T"
      ],
      "metadata": {
        "id": "E6JvYVzyYcTY"
      },
      "execution_count": 19,
      "outputs": []
    },
    {
      "cell_type": "code",
      "source": [
        "cols_orden = [\"matmul_Q\", \"matmul_K\", \"matmul_V\", \"attention\", \"mha_output\", \"ffn\", \"total\"]\n",
        "df = df[cols_orden]"
      ],
      "metadata": {
        "id": "AiHwtyGrqtbP"
      },
      "execution_count": 20,
      "outputs": []
    },
    {
      "cell_type": "code",
      "source": [
        "\n",
        "\n",
        "display(df.style.format(\"{:.4f}\"))\n",
        "\n",
        "\n",
        "\n"
      ],
      "metadata": {
        "id": "8oRV_3uBfmnX",
        "colab": {
          "base_uri": "https://localhost:8080/",
          "height": 175
        },
        "outputId": "ad46cf67-f770-4c72-e6ea-548fcdacb4bb"
      },
      "execution_count": 21,
      "outputs": [
        {
          "output_type": "display_data",
          "data": {
            "text/plain": [
              "<pandas.io.formats.style.Styler at 0x7a5c08bcdf70>"
            ],
            "text/html": [
              "<style type=\"text/css\">\n",
              "</style>\n",
              "<table id=\"T_69416\" class=\"dataframe\">\n",
              "  <thead>\n",
              "    <tr>\n",
              "      <th class=\"blank level0\" >&nbsp;</th>\n",
              "      <th id=\"T_69416_level0_col0\" class=\"col_heading level0 col0\" >matmul_Q</th>\n",
              "      <th id=\"T_69416_level0_col1\" class=\"col_heading level0 col1\" >matmul_K</th>\n",
              "      <th id=\"T_69416_level0_col2\" class=\"col_heading level0 col2\" >matmul_V</th>\n",
              "      <th id=\"T_69416_level0_col3\" class=\"col_heading level0 col3\" >attention</th>\n",
              "      <th id=\"T_69416_level0_col4\" class=\"col_heading level0 col4\" >mha_output</th>\n",
              "      <th id=\"T_69416_level0_col5\" class=\"col_heading level0 col5\" >ffn</th>\n",
              "      <th id=\"T_69416_level0_col6\" class=\"col_heading level0 col6\" >total</th>\n",
              "    </tr>\n",
              "  </thead>\n",
              "  <tbody>\n",
              "    <tr>\n",
              "      <th id=\"T_69416_level0_row0\" class=\"row_heading level0 row0\" >NumPy</th>\n",
              "      <td id=\"T_69416_row0_col0\" class=\"data row0 col0\" >0.3700</td>\n",
              "      <td id=\"T_69416_row0_col1\" class=\"data row0 col1\" >0.2808</td>\n",
              "      <td id=\"T_69416_row0_col2\" class=\"data row0 col2\" >0.3179</td>\n",
              "      <td id=\"T_69416_row0_col3\" class=\"data row0 col3\" >2.6155</td>\n",
              "      <td id=\"T_69416_row0_col4\" class=\"data row0 col4\" >0.2419</td>\n",
              "      <td id=\"T_69416_row0_col5\" class=\"data row0 col5\" >4.2615</td>\n",
              "      <td id=\"T_69416_row0_col6\" class=\"data row0 col6\" >8.0876</td>\n",
              "    </tr>\n",
              "    <tr>\n",
              "      <th id=\"T_69416_level0_row1\" class=\"row_heading level0 row1\" >JAX</th>\n",
              "      <td id=\"T_69416_row1_col0\" class=\"data row1 col0\" >0.2213</td>\n",
              "      <td id=\"T_69416_row1_col1\" class=\"data row1 col1\" >0.2402</td>\n",
              "      <td id=\"T_69416_row1_col2\" class=\"data row1 col2\" >0.1296</td>\n",
              "      <td id=\"T_69416_row1_col3\" class=\"data row1 col3\" >0.9673</td>\n",
              "      <td id=\"T_69416_row1_col4\" class=\"data row1 col4\" >0.7910</td>\n",
              "      <td id=\"T_69416_row1_col5\" class=\"data row1 col5\" >1.7551</td>\n",
              "      <td id=\"T_69416_row1_col6\" class=\"data row1 col6\" >4.1045</td>\n",
              "    </tr>\n",
              "    <tr>\n",
              "      <th id=\"T_69416_level0_row2\" class=\"row_heading level0 row2\" >JIT-COMP</th>\n",
              "      <td id=\"T_69416_row2_col0\" class=\"data row2 col0\" >0.1594</td>\n",
              "      <td id=\"T_69416_row2_col1\" class=\"data row2 col1\" >0.1557</td>\n",
              "      <td id=\"T_69416_row2_col2\" class=\"data row2 col2\" >0.2826</td>\n",
              "      <td id=\"T_69416_row2_col3\" class=\"data row2 col3\" >0.7133</td>\n",
              "      <td id=\"T_69416_row2_col4\" class=\"data row2 col4\" >0.7912</td>\n",
              "      <td id=\"T_69416_row2_col5\" class=\"data row2 col5\" >1.6667</td>\n",
              "      <td id=\"T_69416_row2_col6\" class=\"data row2 col6\" >3.7688</td>\n",
              "    </tr>\n",
              "    <tr>\n",
              "      <th id=\"T_69416_level0_row3\" class=\"row_heading level0 row3\" >JAX-JIT</th>\n",
              "      <td id=\"T_69416_row3_col0\" class=\"data row3 col0\" >0.1006</td>\n",
              "      <td id=\"T_69416_row3_col1\" class=\"data row3 col1\" >0.1017</td>\n",
              "      <td id=\"T_69416_row3_col2\" class=\"data row3 col2\" >0.1055</td>\n",
              "      <td id=\"T_69416_row3_col3\" class=\"data row3 col3\" >0.0590</td>\n",
              "      <td id=\"T_69416_row3_col4\" class=\"data row3 col4\" >0.1136</td>\n",
              "      <td id=\"T_69416_row3_col5\" class=\"data row3 col5\" >0.8539</td>\n",
              "      <td id=\"T_69416_row3_col6\" class=\"data row3 col6\" >1.3344</td>\n",
              "    </tr>\n",
              "  </tbody>\n",
              "</table>\n"
            ]
          },
          "metadata": {}
        }
      ]
    }
  ]
}