{
  "nbformat": 4,
  "nbformat_minor": 0,
  "metadata": {
    "colab": {
      "provenance": []
    },
    "kernelspec": {
      "name": "python3",
      "display_name": "Python 3"
    },
    "language_info": {
      "name": "python"
    }
  },
  "cells": [
    {
      "cell_type": "code",
      "source": [
        "pip install -U jax"
      ],
      "metadata": {
        "colab": {
          "base_uri": "https://localhost:8080/"
        },
        "id": "SJ5iV4DqvyIU",
        "outputId": "e2eb18a8-773a-48d1-f043-dededa2933b8"
      },
      "execution_count": 1,
      "outputs": [
        {
          "output_type": "stream",
          "name": "stdout",
          "text": [
            "Requirement already satisfied: jax in /usr/local/lib/python3.12/dist-packages (0.5.3)\n",
            "Collecting jax\n",
            "  Downloading jax-0.7.1-py3-none-any.whl.metadata (13 kB)\n",
            "Collecting jaxlib<=0.7.1,>=0.7.1 (from jax)\n",
            "  Downloading jaxlib-0.7.1-cp312-cp312-manylinux_2_27_x86_64.whl.metadata (1.3 kB)\n",
            "Requirement already satisfied: ml_dtypes>=0.5.0 in /usr/local/lib/python3.12/dist-packages (from jax) (0.5.3)\n",
            "Requirement already satisfied: numpy>=1.26 in /usr/local/lib/python3.12/dist-packages (from jax) (2.0.2)\n",
            "Requirement already satisfied: opt_einsum in /usr/local/lib/python3.12/dist-packages (from jax) (3.4.0)\n",
            "Requirement already satisfied: scipy>=1.12 in /usr/local/lib/python3.12/dist-packages (from jax) (1.16.1)\n",
            "Downloading jax-0.7.1-py3-none-any.whl (2.8 MB)\n",
            "\u001b[2K   \u001b[90m━━━━━━━━━━━━━━━━━━━━━━━━━━━━━━━━━━━━━━━━\u001b[0m \u001b[32m2.8/2.8 MB\u001b[0m \u001b[31m22.1 MB/s\u001b[0m eta \u001b[36m0:00:00\u001b[0m\n",
            "\u001b[?25hDownloading jaxlib-0.7.1-cp312-cp312-manylinux_2_27_x86_64.whl (81.2 MB)\n",
            "\u001b[2K   \u001b[90m━━━━━━━━━━━━━━━━━━━━━━━━━━━━━━━━━━━━━━━━\u001b[0m \u001b[32m81.2/81.2 MB\u001b[0m \u001b[31m8.1 MB/s\u001b[0m eta \u001b[36m0:00:00\u001b[0m\n",
            "\u001b[?25hInstalling collected packages: jaxlib, jax\n",
            "  Attempting uninstall: jaxlib\n",
            "    Found existing installation: jaxlib 0.5.3\n",
            "    Uninstalling jaxlib-0.5.3:\n",
            "      Successfully uninstalled jaxlib-0.5.3\n",
            "  Attempting uninstall: jax\n",
            "    Found existing installation: jax 0.5.3\n",
            "    Uninstalling jax-0.5.3:\n",
            "      Successfully uninstalled jax-0.5.3\n",
            "Successfully installed jax-0.7.1 jaxlib-0.7.1\n"
          ]
        }
      ]
    },
    {
      "cell_type": "code",
      "source": [
        "import jax\n",
        "import jax.numpy as jnp\n",
        "import numpy as np\n",
        "import jax.lax as lax\n",
        "import cupy as cp\n",
        "import matplotlib.pyplot as plt\n",
        "import time\n",
        "from jax import random\n",
        "\n",
        "\n",
        "import matplotlib.pyplot as plt"
      ],
      "metadata": {
        "colab": {
          "base_uri": "https://localhost:8080/"
        },
        "id": "PFdNHP4MzO4v",
        "outputId": "5a95eb75-b277-461d-b487-d7c87afd73db"
      },
      "execution_count": 2,
      "outputs": [
        {
          "output_type": "stream",
          "name": "stderr",
          "text": [
            "/usr/local/lib/python3.12/dist-packages/jaxlib/plugin_support.py:71: RuntimeWarning: JAX plugin jax_cuda12_plugin version 0.5.3 is installed, but it is not compatible with the installed jaxlib version 0.7.1, so it will not be used.\n",
            "  warnings.warn(\n"
          ]
        }
      ]
    },
    {
      "cell_type": "code",
      "source": [
        "def gelu_np(x):\n",
        "    return 0.5 * x * (1 + np.tanh(np.sqrt(2 / np.pi) * (x + 0.044715 * x**3)))\n",
        "\n",
        "def lnorm_np(x, eps=1e-5):\n",
        "    mean = np.mean(x, axis=0, keepdims=True)\n",
        "    var = np.var(x, axis=0, keepdims=True)\n",
        "    return (x - mean) / np.sqrt(var + eps)\n",
        "\n",
        "\n",
        "def matmul_np(a, b):\n",
        "    a_i32 = a.astype(np.int32)\n",
        "    b_i32 = b.astype(np.int32)\n",
        "    result = a_i32 @ b_i32\n",
        "    return np.clip(result, -128, 127).astype(np.int32)\n",
        "\n",
        "def softmax_np(x, axis=-1):\n",
        "\n",
        "    x_max = np.max(x, axis=axis, keepdims=True)\n",
        "    e_x = np.exp(x - x_max)\n",
        "    return e_x / np.sum(e_x, axis=axis, keepdims=True)\n",
        "\n",
        "\n",
        "def attention_per_head_np(K, Q, V, l_total, ddh, b, h):\n",
        "    K = K.astype(np.int32)\n",
        "    Q = Q.astype(np.int32)\n",
        "    V = V.astype(np.int32)\n",
        "    lb = l_total * b\n",
        "    d = K.shape[0]\n",
        "    E2 = np.zeros((d, lb), dtype=np.int32)\n",
        "\n",
        "    for j in range(b):\n",
        "        for i in range(h):\n",
        "            indJ = j * l_total\n",
        "            indI2 = i * ddh\n",
        "\n",
        "            K_slice = K[indI2:indI2+ddh, indJ:indJ+l_total].astype(np.int32)\n",
        "            Q_slice = Q[indI2:indI2+ddh, indJ:indJ+l_total].astype(np.int32)\n",
        "            V_slice = V[indI2:indI2+ddh, indJ:indJ+l_total].astype(np.int32)\n",
        "\n",
        "            scores = K_slice.T @ Q_slice / np.sqrt(ddh)\n",
        "            E1 = softmax_np(scores, axis=0)\n",
        "\n",
        "            result = V_slice @ E1\n",
        "            E2[indI2:indI2+ddh, indJ:indJ+l] = np.clip(result, -128, 127).astype(np.int8)\n",
        "\n",
        "    return E2\n",
        "\n",
        "\n",
        "def mha_output_np(WO, E2, EI):\n",
        "    E2 = E2.astype(np.int32)\n",
        "    WO = WO.astype(np.int32)\n",
        "    EI = EI.astype(np.int32)\n",
        "    AO = WO @ E2 + EI\n",
        "    AO = lnorm_np(AO)\n",
        "    return np.clip(AO, -128, 127).astype(np.int8)\n",
        "\n",
        "def ffn_forward_np(W1, W2, AO):\n",
        "    W1 = W1.astype(np.int32)\n",
        "    W2 = W2.astype(np.int32)\n",
        "    AO = AO.astype(np.int32)\n",
        "    E3b = W1 @ AO\n",
        "    E3 = gelu_np(E3b)\n",
        "    EOb = W2 @ E3\n",
        "    EO = lnorm_np(EOb + AO)\n",
        "    return np.clip(EO, -128, 127).astype(np.int8)\n",
        "\n",
        "\n"
      ],
      "metadata": {
        "id": "3kh3L2yOQ1wC"
      },
      "execution_count": 9,
      "outputs": []
    },
    {
      "cell_type": "code",
      "source": [
        "\n",
        "def gelu_jax(x):\n",
        "    return 0.5 * x * (1 + jnp.tanh(jnp.sqrt(2 / jnp.pi) * (x + 0.044715 * x**3)))\n",
        "\n",
        "\n",
        "def lnorm_jax(x, eps=1e-5):\n",
        "    mean = jnp.mean(x, axis=0, keepdims=True)\n",
        "    var = jnp.var(x, axis=0, keepdims=True)\n",
        "    return (x - mean) / jnp.sqrt(var + eps)\n",
        "\n",
        "\n",
        "\n",
        "\n",
        "def softmax_jax(x, axis=-1):\n",
        "    x_max = jnp.max(x, axis=axis, keepdims=True)\n",
        "    e_x = jnp.exp(x - x_max)\n",
        "    return e_x / jnp.sum(e_x, axis=axis, keepdims=True)\n",
        "\n",
        "\n",
        "def matmul_jax(a, b):\n",
        "    a_i32= a.astype(jnp.int32)\n",
        "    b_i32= b.astype(jnp.int32)\n",
        "    c = a_i32 @ b_i32\n",
        "    return jnp.clip(c, -128, 127).astype(jnp.int8)\n",
        "\n",
        "\n",
        "def attention_per_head_jax(K, Q, V, l_total, ddh, b, h):\n",
        "    K= K.astype(jnp.int32)\n",
        "    Q= Q.astype(jnp.int32)\n",
        "    V= V.astype(jnp.int32)\n",
        "    lb = l_total * b\n",
        "    d = K.shape[0]\n",
        "    E2_init = jnp.zeros((d, lb), dtype=jnp.int32)\n",
        "\n",
        "\n",
        "    def process_single_head(E2, idx):\n",
        "        j, i = idx // h, idx % h\n",
        "        indJ = j * l_total\n",
        "        indI2 = i * ddh\n",
        "\n",
        "        K_slice = lax.dynamic_slice(K, (indI2, indJ), (ddh, l_total)).astype(jnp.int32)\n",
        "        Q_slice = lax.dynamic_slice(Q, (indI2, indJ), (ddh, l_total)).astype(jnp.int32)\n",
        "        V_slice = lax.dynamic_slice(V, (indI2, indJ), (ddh, l_total)).astype(jnp.int32)\n",
        "\n",
        "        scores = K_slice.T @ Q_slice / jnp.sqrt(ddh)\n",
        "        E1 = softmax_jax(scores, axis=0)\n",
        "\n",
        "        result = V_slice @ E1\n",
        "        result_int8 = jnp.clip(result, -128, 127).astype(jnp.int8)\n",
        "        E2 = lax.dynamic_update_slice(E2, result_int8, (indI2, indJ))\n",
        "        return E2, None\n",
        "    E2_init = jnp.zeros((d, lb), dtype=jnp.int8)\n",
        "    idxs = jnp.arange(b * h)\n",
        "    E2, _ = lax.scan(process_single_head, E2_init, idxs)\n",
        "    return E2\n",
        "\n",
        "\n",
        "def mha_output_jax(WO, E2, EI):\n",
        "    E2 = E2.astype(jnp.int32)\n",
        "    EI = EI.astype(jnp.int32)\n",
        "    WO = WO.astype(jnp.int32)\n",
        "    AO = WO @ E2 + EI\n",
        "    AO = lnorm_jax(AO)\n",
        "    return jnp.clip(AO, -128, 127).astype(jnp.int8)\n",
        "\n",
        "\n",
        "def ffn_forward_jax(W1, W2, AO):\n",
        "    AO = AO.astype(jnp.int32)\n",
        "    W1 = W1.astype(jnp.int32)\n",
        "    W2 = W2.astype(jnp.int32)\n",
        "    E3b = W1 @ AO\n",
        "    E3 = gelu_jax(E3b)\n",
        "    EOb = W2 @ E3\n",
        "    EO = lnorm_jax(EOb + AO)\n",
        "    return jnp.clip(EO, -128, 127).astype(jnp.int8)\n",
        "\n",
        "\n",
        "b = 24\n",
        "l = 128\n",
        "d = 1024\n",
        "h = 16\n",
        "\n",
        "\n",
        "f = 4 * d\n",
        "ddh = d // h\n",
        "lb = b * l\n",
        "\n"
      ],
      "metadata": {
        "id": "BXWTYTsM9Eau"
      },
      "execution_count": 8,
      "outputs": []
    },
    {
      "cell_type": "code",
      "source": [
        "\n",
        "key = jax.random.PRNGKey(0)\n",
        "keys = jax.random.split(key, 7)\n",
        "\n",
        "\n",
        "EI_jax = jax.random.randint(keys[0], (d, lb), minval=-128, maxval=128, dtype=jnp.int8)\n",
        "WQ = jax.random.randint(keys[1], (d, d), minval=-128, maxval=128, dtype=jnp.int8)\n",
        "WK = jax.random.randint(keys[2], (d, d), minval=-128, maxval=128, dtype=jnp.int8)\n",
        "WV = jax.random.randint(keys[3], (d, d), minval=-128, maxval=128, dtype=jnp.int8)\n",
        "WO = jax.random.randint(keys[4], (d, d), minval=-128, maxval=128, dtype=jnp.int8)\n",
        "W1 = jax.random.randint(keys[5], (f, d), minval=-128, maxval=128, dtype=jnp.int8)\n",
        "W2 = jax.random.randint(keys[6], (d, f), minval=-128, maxval=128, dtype=jnp.int8)\n",
        "\n",
        "\n",
        "EI_np, WQ_np, WK_np, WV_np, WO_np, W1_np, W2_np = map(np.array, [EI_jax, WQ, WK, WV, WO, W1, W2])\n"
      ],
      "metadata": {
        "id": "lrGAvNXn5_d2"
      },
      "execution_count": 5,
      "outputs": []
    },
    {
      "cell_type": "code",
      "source": [
        "jax.config.update('jax_default_matmul_precision', 'highest')\n",
        "jax.config.update('jax_optimization_level', 'O3')"
      ],
      "metadata": {
        "id": "irCIoMUmjqFC"
      },
      "execution_count": 6,
      "outputs": []
    },
    {
      "cell_type": "code",
      "source": [
        "# NumPy\n",
        "\n",
        "\n",
        "results={}\n",
        "results[\"NumPy\"] = {}\n",
        "Qc = matmul_np(WQ_np, EI_np)\n",
        "\n",
        "start = time.time()\n",
        "Qc = matmul_np(WQ_np, EI_np)\n",
        "\n",
        "end = time.time()\n",
        "results[\"NumPy\"][\"matmul_Q\"] = end - start\n",
        "\n",
        "start = time.time()\n",
        "Kc = matmul_np(WK_np, EI_np)\n",
        "\n",
        "end = time.time()\n",
        "results[\"NumPy\"][\"matmul_K\"] = end - start\n",
        "\n",
        "start = time.time()\n",
        "Vc = matmul_np(WV_np, EI_np)\n",
        "\n",
        "end = time.time()\n",
        "results[\"NumPy\"][\"matmul_V\"] = end - start\n",
        "\n",
        "start = time.time()\n",
        "E2n = attention_per_head_np(Kc, Qc, Vc, l, ddh, b, h)\n",
        "\n",
        "end = time.time()\n",
        "results[\"NumPy\"][\"attention\"] = end - start\n",
        "\n",
        "start = time.time()\n",
        "AOc = mha_output_np(WO_np, E2n, EI_np)\n",
        "\n",
        "end = time.time()\n",
        "results[\"NumPy\"][\"mha_output\"] = end - start\n",
        "\n",
        "start = time.time()\n",
        "EOc = ffn_forward_np(W1_np, W2_np, AOc)\n",
        "\n",
        "end = time.time()\n",
        "results[\"NumPy\"][\"ffn\"] = end - start\n",
        "\n",
        "results[\"NumPy\"][\"total\"] = sum(results[\"NumPy\"].values())"
      ],
      "metadata": {
        "id": "jzQyzPG09BWJ"
      },
      "execution_count": 10,
      "outputs": []
    },
    {
      "cell_type": "code",
      "source": [
        "\n",
        "\n",
        "# JAX without JIT\n",
        "results[\"JAX\"] = {}\n",
        "\n",
        "Qj = matmul_jax(WQ,  EI_jax).block_until_ready()\n",
        "start = time.time()\n",
        "Qj = matmul_jax(WQ,  EI_jax).block_until_ready()\n",
        "end = time.time()\n",
        "results[\"JAX\"][\"matmul_Q\"] = end - start\n",
        "\n",
        "start = time.time()\n",
        "Kj = matmul_jax(WK,  EI_jax).block_until_ready()\n",
        "end = time.time()\n",
        "results[\"JAX\"][\"matmul_K\"] = end - start\n",
        "\n",
        "start = time.time()\n",
        "Vj = matmul_jax(WV,  EI_jax).block_until_ready()\n",
        "end = time.time()\n",
        "results[\"JAX\"][\"matmul_V\"] = end - start\n",
        "\n",
        "start = time.time()\n",
        "E2j = attention_per_head_jax(Kj, Qj, Vj, l, ddh, b, h).block_until_ready()\n",
        "end = time.time()\n",
        "results[\"JAX\"][\"attention\"] = end - start\n",
        "\n",
        "start = time.time()\n",
        "AOj = mha_output_jax(WO, E2j, EI_jax).block_until_ready()\n",
        "end = time.time()\n",
        "results[\"JAX\"][\"mha_output\"] = end - start\n",
        "\n",
        "start = time.time()\n",
        "EOj = ffn_forward_jax(W1, W2, AOj).block_until_ready()\n",
        "end = time.time()\n",
        "results[\"JAX\"][\"ffn\"] = end - start\n",
        "\n",
        "results[\"JAX\"][\"total\"] = sum(results[\"JAX\"].values())\n",
        "\n",
        "print(results[\"JAX\"])\n"
      ],
      "metadata": {
        "id": "3_q9_NcknU5l",
        "colab": {
          "base_uri": "https://localhost:8080/"
        },
        "outputId": "438bd656-8269-406a-a24d-3f882489c4bc"
      },
      "execution_count": 11,
      "outputs": [
        {
          "output_type": "stream",
          "name": "stdout",
          "text": [
            "{'matmul_Q': 0.42323756217956543, 'matmul_K': 0.4293980598449707, 'matmul_V': 0.6186392307281494, 'attention': 0.7429721355438232, 'mha_output': 1.1834473609924316, 'ffn': 3.8244118690490723, 'total': 7.222106218338013}\n"
          ]
        }
      ]
    },
    {
      "cell_type": "code",
      "source": [
        "results[\"JIT-COMP\"] = {}\n",
        "\n",
        "# JIT\n",
        "matmul_jit= jax.jit(matmul_jax)\n",
        "attention_per_head_jit = jax.jit(attention_per_head_jax, static_argnums=(3, 4, 5, 6))\n",
        "mha_output_jit = jax.jit(mha_output_jax)\n",
        "ffn_forward_jit = jax.jit(ffn_forward_jax)\n",
        "\n",
        "\n",
        "\n",
        "start = time.time()\n",
        "Qj = matmul_jit(WQ,  EI_np).block_until_ready()\n",
        "end = time.time()\n",
        "results[\"JIT-COMP\"][\"matmul_Q\"] = end - start\n",
        "\n",
        "start = time.time()\n",
        "Kj = matmul_jit(WK,  EI_np).block_until_ready()\n",
        "end = time.time()\n",
        "results[\"JIT-COMP\"][\"matmul_K\"] = end - start\n",
        "\n",
        "start = time.time()\n",
        "Vj = matmul_jit(WV,  EI_np).block_until_ready()\n",
        "end = time.time()\n",
        "results[\"JIT-COMP\"][\"matmul_V\"] = end - start\n",
        "\n",
        "\n",
        "\n",
        "start_attention=  time.time()\n",
        "\n",
        "E2j = attention_per_head_jit(Kj, Qj, Vj, l, ddh, b, h).block_until_ready()\n",
        "end_attention = time.time()\n",
        "t = end_attention - start_attention\n",
        "results[\"JIT-COMP\"][\"attention\"] = t\n",
        "\n",
        "start_mha_output=  time.time()\n",
        "AOj = mha_output_jit(WO, E2j, EI_np).block_until_ready()\n",
        "end_mha_output = time.time()\n",
        "t= end_mha_output - start_mha_output\n",
        "results[\"JIT-COMP\"][\"mha_output\"] = t\n",
        "\n",
        "start_ffn=time.time()\n",
        "FFj = ffn_forward_jit(W1, W2, AOj).block_until_ready()\n",
        "end_ffn = time.time()\n",
        "t = end_ffn - start_ffn\n",
        "\n",
        "results[\"JIT-COMP\"][\"ffn\"] = t\n",
        "\n",
        "results[\"JIT-COMP\"][\"total\"] = sum(results[\"JIT-COMP\"].values())\n",
        "\n"
      ],
      "metadata": {
        "id": "ifRJ7B9lnSDy"
      },
      "execution_count": 12,
      "outputs": []
    },
    {
      "cell_type": "code",
      "source": [
        "# JAX with JIT\n",
        "results[\"JAX-JIT\"] = {}\n",
        "Qj = matmul_jit(WQ,  EI_jax).block_until_ready()\n",
        "start = time.time()\n",
        "Qj = matmul_jit(WQ,  EI_jax).block_until_ready()\n",
        "end = time.time()\n",
        "results[\"JAX-JIT\"][\"matmul_Q\"] = end - start\n",
        "\n",
        "start = time.time()\n",
        "Kj = matmul_jit(WK,  EI_jax).block_until_ready()\n",
        "end = time.time()\n",
        "results[\"JAX-JIT\"][\"matmul_K\"] = end - start\n",
        "\n",
        "start = time.time()\n",
        "Vj = matmul_jit(WV,  EI_jax).block_until_ready()\n",
        "end = time.time()\n",
        "results[\"JAX-JIT\"][\"matmul_V\"] = end - start\n",
        "\n",
        "\n",
        "start_attention=  time.time()\n",
        "\n",
        "E2j = attention_per_head_jit(Kj, Qj, Vj, l, ddh, b, h).block_until_ready()\n",
        "end_attention = time.time()\n",
        "t = end_attention - start_attention\n",
        "results[\"JAX-JIT\"][\"attention\"] = t\n",
        "\n",
        "\n",
        "start_mha_output=  time.time()\n",
        "AOj = mha_output_jit(WO, E2j, EI_jax).block_until_ready()\n",
        "end_mha_output = time.time()\n",
        "t= end_mha_output - start_mha_output\n",
        "results[\"JAX-JIT\"][\"mha_output\"] = t\n",
        "\n",
        "\n",
        "start_ffn=time.time()\n",
        "FFj = ffn_forward_jit(W1, W2, AOj).block_until_ready()\n",
        "end_ffn = time.time()\n",
        "t = end_ffn - start_ffn\n",
        "results[\"JAX-JIT\"][\"ffn\"] = t\n",
        "\n",
        "results[\"JAX-JIT\"][\"total\"] = sum(results[\"JAX-JIT\"].values())"
      ],
      "metadata": {
        "id": "Dv2oezSpqMI3"
      },
      "execution_count": 13,
      "outputs": []
    },
    {
      "cell_type": "code",
      "source": [
        "print(results.keys())\n"
      ],
      "metadata": {
        "id": "orNYr0dkoBSD",
        "colab": {
          "base_uri": "https://localhost:8080/"
        },
        "outputId": "28856e31-952c-458a-eacc-28c9ea402402"
      },
      "execution_count": 14,
      "outputs": [
        {
          "output_type": "stream",
          "name": "stdout",
          "text": [
            "dict_keys(['NumPy', 'JAX', 'JIT-COMP', 'JAX-JIT'])\n"
          ]
        }
      ]
    },
    {
      "cell_type": "code",
      "source": [
        "\n",
        "\n",
        "labels = [\"matmul_Q\",\"matmul_K\",\"matmul_V\", \"attention\", \"mha_output\", \"ffn\"]\n",
        "x = np.arange(len(labels))\n",
        "width = 0.20\n",
        "\n",
        "fig, ax = plt.subplots(figsize=(12, 6))\n",
        "\n",
        "\n",
        "ax.bar(x - 1*width, [results[\"NumPy\"][l] for l in labels], width, label='NumPy')\n",
        "ax.bar(x - 0*width, [results[\"JAX\"][l] for l in labels], width, label='JAX')\n",
        "#ax.bar(x + 0.5*width, [results[\"JIT-COMP\"][l] for l in labels], width, label='JIT-COMP')\n",
        "ax.bar(x + 1*width, [results[\"JAX-JIT\"][l] for l in labels], width, label='JAX-JIT')\n",
        "\n",
        "ax.set_ylabel('Time (s)')\n",
        "ax.set_title('Time per function per implementation for encoder using INT8 + INT32 on CPU ')\n",
        "ax.set_xticks(x)\n",
        "ax.set_xticklabels(labels)\n",
        "ax.legend()\n",
        "\n",
        "\n",
        "ax.grid(True, axis='y', linestyle='--', alpha=0.6)\n",
        "plt.tight_layout()\n",
        "\n",
        "\n",
        "\n",
        "plt.show()"
      ],
      "metadata": {
        "id": "FTVlGqDTxA1s",
        "colab": {
          "base_uri": "https://localhost:8080/",
          "height": 607
        },
        "outputId": "d703c776-6012-4cf0-a754-5f101ab336b1"
      },
      "execution_count": 15,
      "outputs": [
        {
          "output_type": "display_data",
          "data": {
            "text/plain": [
              "<Figure size 1200x600 with 1 Axes>"
            ],
            "image/png": "[encoded data removed]"
          },
          "metadata": {}
        }
      ]
    },
    {
      "cell_type": "code",
      "source": [
        "\n",
        "labels = [\"NumPy\", \"JAX\",\"JAX-JIT\"]\n",
        "x = np.arange(len(labels))\n",
        "width = 0.6\n",
        "\n",
        "fig, ax = plt.subplots(figsize=(10, 6))\n",
        "\n",
        "ax.bar(x, [results[label][\"total\"] for label in labels], width,\n",
        "       color=['#1f77b4', '#ff7f0e', '#2ca02c', '#d62728'])\n",
        "\n",
        "\n",
        "for i, label in enumerate(labels):\n",
        "    height = results[label][\"total\"]\n",
        "    ax.text(i, height + 0.01 * height, f'{height:.4f}s',\n",
        "            ha='center', va='bottom')\n",
        "\n",
        "ax.set_ylabel('Time (s)')\n",
        "ax.set_title('Time per implementation for encoder using INT8 + INT32 on CPU')\n",
        "ax.set_xticks(x)\n",
        "ax.set_xticklabels(labels)\n",
        "\n",
        "ax.grid(True, axis='y', linestyle='--', alpha=0.6)\n",
        "plt.tight_layout()\n",
        "\n",
        "\n",
        "plt.show()"
      ],
      "metadata": {
        "id": "sAMIGGIr2j7L",
        "colab": {
          "base_uri": "https://localhost:8080/",
          "height": 607
        },
        "outputId": "40e7df76-b580-4c51-8757-c902022a7cd3"
      },
      "execution_count": 16,
      "outputs": [
        {
          "output_type": "display_data",
          "data": {
            "text/plain": [
              "<Figure size 1000x600 with 1 Axes>"
            ],
            "image/png": "[encoded data removed]"
          },
          "metadata": {}
        }
      ]
    },
    {
      "cell_type": "code",
      "source": [
        "\n",
        "\n",
        "implementations = [\"NumPy\", \"JAX\", \"JAX-JIT\"]\n",
        "functions = [\"matmul_Q\", \"matmul_K\", \"matmul_V\", \"attention\", \"mha_output\", \"ffn\"]\n",
        "colors = plt.get_cmap(\"tab20\").colors\n",
        "\n",
        "x = np.arange(len(implementations))\n",
        "width = 0.6\n",
        "\n",
        "fig, ax = plt.subplots(figsize=(12, 6))\n",
        "\n",
        "bottom = np.zeros(len(implementations))\n",
        "\n",
        "\n",
        "for i, func in enumerate(functions):\n",
        "    values = [results[impl][func] for impl in implementations]\n",
        "    ax.bar(x, values, width, label=func, bottom=bottom, color=colors[i])\n",
        "    bottom += values\n",
        "\n",
        "\n",
        "for i, impl in enumerate(implementations):\n",
        "    total = sum(results[impl][func] for func in functions)\n",
        "    ax.text(i, total + 0.01 * total, f'{total:.4f}s', ha='center', va='bottom')\n",
        "\n",
        "ax.set_ylabel('Time (s)')\n",
        "ax.set_title('Stacked times per function for each implementation for the encoder using INT8 + INT32 on CPU')\n",
        "ax.set_xticks(x)\n",
        "ax.set_xticklabels(implementations)\n",
        "\n",
        "ax.legend(title=\"Functions\", bbox_to_anchor=(1.05, 1), loc='upper left')\n",
        "ax.grid(True, axis='y', linestyle='--', alpha=0.6)\n",
        "plt.tight_layout()\n",
        "\n",
        "plt.show()\n"
      ],
      "metadata": {
        "id": "_8JmRGXLeAc5",
        "colab": {
          "base_uri": "https://localhost:8080/",
          "height": 607
        },
        "outputId": "91d83afa-21ce-401a-dcc6-8ff1554f1f84"
      },
      "execution_count": 17,
      "outputs": [
        {
          "output_type": "display_data",
          "data": {
            "text/plain": [
              "<Figure size 1200x600 with 1 Axes>"
            ],
            "image/png": "[encoded data removed]"
          },
          "metadata": {}
        }
      ]
    },
    {
      "cell_type": "code",
      "source": [
        "import pandas as pd\n",
        "\n",
        "df = pd.DataFrame(results).T\n",
        "cols_orden = [\"matmul_Q\", \"matmul_K\", \"matmul_V\", \"attention\", \"mha_output\", \"ffn\", \"total\"]\n",
        "df = df[cols_orden]\n",
        "\n",
        "display(df.style.format(\"{:.4f}\").set_caption(\"Time per function and implementation for encoder using INT8+INT32 on CPU\"))\n",
        "\n",
        "\n",
        "\n",
        "\n",
        "\n"
      ],
      "metadata": {
        "id": "8oRV_3uBfmnX",
        "colab": {
          "base_uri": "https://localhost:8080/",
          "height": 192
        },
        "outputId": "c3ae744e-5a02-48a0-e235-faf4516705e0"
      },
      "execution_count": 18,
      "outputs": [
        {
          "output_type": "display_data",
          "data": {
            "text/plain": [
              "<pandas.io.formats.style.Styler at 0x7d62b27f2690>"
            ],
            "text/html": [
              "<style type=\"text/css\">\n",
              "</style>\n",
              "<table id=\"T_97d0e\" class=\"dataframe\">\n",
              "  <caption>Time per function and implementation for encoder using INT8+INT32 on CPU</caption>\n",
              "  <thead>\n",
              "    <tr>\n",
              "      <th class=\"blank level0\" >&nbsp;</th>\n",
              "      <th id=\"T_97d0e_level0_col0\" class=\"col_heading level0 col0\" >matmul_Q</th>\n",
              "      <th id=\"T_97d0e_level0_col1\" class=\"col_heading level0 col1\" >matmul_K</th>\n",
              "      <th id=\"T_97d0e_level0_col2\" class=\"col_heading level0 col2\" >matmul_V</th>\n",
              "      <th id=\"T_97d0e_level0_col3\" class=\"col_heading level0 col3\" >attention</th>\n",
              "      <th id=\"T_97d0e_level0_col4\" class=\"col_heading level0 col4\" >mha_output</th>\n",
              "      <th id=\"T_97d0e_level0_col5\" class=\"col_heading level0 col5\" >ffn</th>\n",
              "      <th id=\"T_97d0e_level0_col6\" class=\"col_heading level0 col6\" >total</th>\n",
              "    </tr>\n",
              "  </thead>\n",
              "  <tbody>\n",
              "    <tr>\n",
              "      <th id=\"T_97d0e_level0_row0\" class=\"row_heading level0 row0\" >NumPy</th>\n",
              "      <td id=\"T_97d0e_row0_col0\" class=\"data row0 col0\" >13.0777</td>\n",
              "      <td id=\"T_97d0e_row0_col1\" class=\"data row0 col1\" >13.0215</td>\n",
              "      <td id=\"T_97d0e_row0_col2\" class=\"data row0 col2\" >16.5767</td>\n",
              "      <td id=\"T_97d0e_row0_col3\" class=\"data row0 col3\" >1.0634</td>\n",
              "      <td id=\"T_97d0e_row0_col4\" class=\"data row0 col4\" >13.3337</td>\n",
              "      <td id=\"T_97d0e_row0_col5\" class=\"data row0 col5\" >53.4953</td>\n",
              "      <td id=\"T_97d0e_row0_col6\" class=\"data row0 col6\" >110.5684</td>\n",
              "    </tr>\n",
              "    <tr>\n",
              "      <th id=\"T_97d0e_level0_row1\" class=\"row_heading level0 row1\" >JAX</th>\n",
              "      <td id=\"T_97d0e_row1_col0\" class=\"data row1 col0\" >0.4232</td>\n",
              "      <td id=\"T_97d0e_row1_col1\" class=\"data row1 col1\" >0.4294</td>\n",
              "      <td id=\"T_97d0e_row1_col2\" class=\"data row1 col2\" >0.6186</td>\n",
              "      <td id=\"T_97d0e_row1_col3\" class=\"data row1 col3\" >0.7430</td>\n",
              "      <td id=\"T_97d0e_row1_col4\" class=\"data row1 col4\" >1.1834</td>\n",
              "      <td id=\"T_97d0e_row1_col5\" class=\"data row1 col5\" >3.8244</td>\n",
              "      <td id=\"T_97d0e_row1_col6\" class=\"data row1 col6\" >7.2221</td>\n",
              "    </tr>\n",
              "    <tr>\n",
              "      <th id=\"T_97d0e_level0_row2\" class=\"row_heading level0 row2\" >JIT-COMP</th>\n",
              "      <td id=\"T_97d0e_row2_col0\" class=\"data row2 col0\" >0.4855</td>\n",
              "      <td id=\"T_97d0e_row2_col1\" class=\"data row2 col1\" >0.4241</td>\n",
              "      <td id=\"T_97d0e_row2_col2\" class=\"data row2 col2\" >0.4315</td>\n",
              "      <td id=\"T_97d0e_row2_col3\" class=\"data row2 col3\" >0.4814</td>\n",
              "      <td id=\"T_97d0e_row2_col4\" class=\"data row2 col4\" >0.6270</td>\n",
              "      <td id=\"T_97d0e_row2_col5\" class=\"data row2 col5\" >2.3346</td>\n",
              "      <td id=\"T_97d0e_row2_col6\" class=\"data row2 col6\" >4.7841</td>\n",
              "    </tr>\n",
              "    <tr>\n",
              "      <th id=\"T_97d0e_level0_row3\" class=\"row_heading level0 row3\" >JAX-JIT</th>\n",
              "      <td id=\"T_97d0e_row3_col0\" class=\"data row3 col0\" >0.4187</td>\n",
              "      <td id=\"T_97d0e_row3_col1\" class=\"data row3 col1\" >0.4196</td>\n",
              "      <td id=\"T_97d0e_row3_col2\" class=\"data row3 col2\" >0.4325</td>\n",
              "      <td id=\"T_97d0e_row3_col3\" class=\"data row3 col3\" >0.1908</td>\n",
              "      <td id=\"T_97d0e_row3_col4\" class=\"data row3 col4\" >0.4365</td>\n",
              "      <td id=\"T_97d0e_row3_col5\" class=\"data row3 col5\" >2.1490</td>\n",
              "      <td id=\"T_97d0e_row3_col6\" class=\"data row3 col6\" >4.0471</td>\n",
              "    </tr>\n",
              "  </tbody>\n",
              "</table>\n"
            ]
          },
          "metadata": {}
        }
      ]
    }
  ]
}