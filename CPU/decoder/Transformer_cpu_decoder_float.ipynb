{
  "nbformat": 4,
  "nbformat_minor": 0,
  "metadata": {
    "colab": {
      "provenance": []
    },
    "kernelspec": {
      "name": "python3",
      "display_name": "Python 3"
    },
    "language_info": {
      "name": "python"
    }
  },
  "cells": [
    {
      "cell_type": "code",
      "source": [
        "pip install -U jax"
      ],
      "metadata": {
        "id": "SJ5iV4DqvyIU",
        "colab": {
          "base_uri": "https://localhost:8080/"
        },
        "outputId": "c08207f4-85a9-4b69-be6f-d93bc1aad1c6"
      },
      "execution_count": 1,
      "outputs": [
        {
          "output_type": "stream",
          "name": "stdout",
          "text": [
            "Requirement already satisfied: jax in /usr/local/lib/python3.12/dist-packages (0.7.1)\n",
            "Requirement already satisfied: jaxlib<=0.7.1,>=0.7.1 in /usr/local/lib/python3.12/dist-packages (from jax) (0.7.1)\n",
            "Requirement already satisfied: ml_dtypes>=0.5.0 in /usr/local/lib/python3.12/dist-packages (from jax) (0.5.3)\n",
            "Requirement already satisfied: numpy>=1.26 in /usr/local/lib/python3.12/dist-packages (from jax) (2.0.2)\n",
            "Requirement already satisfied: opt_einsum in /usr/local/lib/python3.12/dist-packages (from jax) (3.4.0)\n",
            "Requirement already satisfied: scipy>=1.12 in /usr/local/lib/python3.12/dist-packages (from jax) (1.16.1)\n"
          ]
        }
      ]
    },
    {
      "cell_type": "code",
      "source": [
        "import jax\n",
        "import jax.numpy as jnp\n",
        "\n",
        "import jax.lax as lax\n",
        "import cupy as cp\n",
        "import pandas as pd\n",
        "\n",
        "import numpy as np\n",
        "\n",
        "import platform\n",
        "import cpuinfo\n",
        "\n",
        "import time\n",
        "from jax import random\n",
        "\n",
        "\n",
        "import matplotlib.pyplot as plt"
      ],
      "metadata": {
        "id": "6oNkQwdl4cO9",
        "collapsed": true,
        "colab": {
          "base_uri": "https://localhost:8080/"
        },
        "outputId": "e3d0adec-a611-4a4d-ab5c-8b35145df9d0"
      },
      "execution_count": 2,
      "outputs": [
        {
          "output_type": "stream",
          "name": "stderr",
          "text": [
            "/usr/local/lib/python3.12/dist-packages/jaxlib/plugin_support.py:71: RuntimeWarning: JAX plugin jax_cuda12_plugin version 0.5.3 is installed, but it is not compatible with the installed jaxlib version 0.7.1, so it will not be used.\n",
            "  warnings.warn(\n"
          ]
        }
      ]
    },
    {
      "cell_type": "code",
      "source": [
        "\n",
        "\n",
        "print(\"CPU:\", platform.processor())\n",
        "print(\"CPU info:\", cpuinfo.get_cpu_info()['brand_raw'])\n"
      ],
      "metadata": {
        "id": "7XyRHhe1I2wZ",
        "outputId": "03bb1cf2-6d54-4c5d-e9c2-69a158643e52",
        "colab": {
          "base_uri": "https://localhost:8080/"
        }
      },
      "execution_count": 3,
      "outputs": [
        {
          "output_type": "stream",
          "name": "stdout",
          "text": [
            "CPU: x86_64\n",
            "CPU info: Intel(R) Xeon(R) CPU @ 2.20GHz\n"
          ]
        }
      ]
    },
    {
      "cell_type": "code",
      "source": [
        "\n",
        "def gelu_np(x):\n",
        "    return 0.5 * x * (1 + np.tanh(np.sqrt(2 / np.pi) * (x + 0.044715 * x**3)))\n",
        "\n",
        "\n",
        "def lnorm_np(x, eps=1e-5):\n",
        "    mean = np.mean(x, axis=0, keepdims=True)\n",
        "    var = np.var(x, axis=0, keepdims=True)\n",
        "    return (x - mean) / np.sqrt(var + eps)\n",
        "\n",
        "def causal_mask_np(seq_len):\n",
        "    return np.tril(jnp.ones((seq_len, seq_len), dtype=bool))\n",
        "\n",
        "\n",
        "def softmax_np(x,mask=None, axis=-1):\n",
        "    if mask is not None:\n",
        "        x = np.where(mask, x, -1e9)\n",
        "    x_max = np.max(x, axis=axis, keepdims=True)\n",
        "    e_x = np.exp(x - x_max)\n",
        "    return e_x / np.sum(e_x, axis=axis, keepdims=True)\n",
        "\n",
        "\n",
        "def matmul_np(a, b):\n",
        "    return a @ b\n",
        "\n",
        "\n",
        "def attention_per_head_decoder_np(K, Q, V, l_total, ddh, b, h):\n",
        "    lb = l_total * b\n",
        "    d = K.shape[0]\n",
        "    E2 = np.zeros((d, lb), dtype=np.float32)\n",
        "    mask= causal_mask_np(l_total)\n",
        "    for j in range(b):\n",
        "        for i in range(h):\n",
        "            indJ = j * l_total\n",
        "            indI2 = i * ddh\n",
        "\n",
        "            K_slice = K[indI2:indI2+ddh, indJ:indJ+l_total]\n",
        "            Q_slice = Q[indI2:indI2+ddh, indJ:indJ+l_total]\n",
        "            V_slice = V[indI2:indI2+ddh, indJ:indJ+l_total]\n",
        "\n",
        "            scores = K_slice.T @ Q_slice / np.sqrt(ddh)\n",
        "            E1 = softmax_np(scores,mask=mask, axis=0)\n",
        "\n",
        "            result = V_slice @ E1\n",
        "            E2[indI2:indI2+ddh, indJ:indJ+l_total] = result\n",
        "\n",
        "    return E2\n",
        "\n",
        "\n",
        "def mha_output_np(WO, E2, EI):\n",
        "    AO = WO @ E2 + EI\n",
        "    AO = lnorm_np(AO)\n",
        "    return AO\n",
        "\n",
        "def ffn_forward_np(W1, W2, AO):\n",
        "    E3b = W1 @ AO\n",
        "    E3 = gelu_np(E3b)\n",
        "    EOb = W2 @ E3\n",
        "    EO = lnorm_np(EOb + AO)\n",
        "    return EO\n"
      ],
      "metadata": {
        "id": "AVqHpYZC3nl5"
      },
      "execution_count": 8,
      "outputs": []
    },
    {
      "cell_type": "code",
      "source": [
        "\n",
        "def gelu_jax(x):\n",
        "    return 0.5 * x * (1 + jnp.tanh(jnp.sqrt(2 / jnp.pi) * (x + 0.044715 * x**3)))\n",
        "\n",
        "\n",
        "def lnorm_jax(x, eps=1e-5):\n",
        "    mean = jnp.mean(x, axis=0, keepdims=True)\n",
        "    var = jnp.var(x, axis=0, keepdims=True)\n",
        "    return (x - mean) / jnp.sqrt(var + eps)\n",
        "\n",
        "\n",
        "def causal_mask_jax(seq_len):\n",
        "    return jnp.tril(jnp.ones((seq_len, seq_len), dtype=bool))\n",
        "\n",
        "\n",
        "def softmax_jax(x, mask=None, axis=-1):\n",
        "    if mask is not None:\n",
        "        x = jnp.where(mask, x, -1e9)\n",
        "    x_max = jnp.max(x, axis=axis, keepdims=True)\n",
        "    e_x = jnp.exp(x - x_max)\n",
        "    return e_x / jnp.sum(e_x, axis=axis, keepdims=True)\n",
        "\n",
        "def matmul_jax(a, b):\n",
        "    return a @ b\n",
        "\n",
        "\n",
        "def attention_per_head_decoder_jax(K, Q, V, l_total, ddh, b, h):\n",
        "    lb = l_total * b\n",
        "    d = K.shape[0]\n",
        "    E2_init = jnp.zeros((d, lb), dtype=jnp.float32)\n",
        "    mask= causal_mask_jax(l_total)\n",
        "\n",
        "    def process_single_head(E2, idx):\n",
        "        j, i = idx // h, idx % h\n",
        "        indJ = j * l_total\n",
        "        indI2 = i * ddh\n",
        "\n",
        "        K_slice = lax.dynamic_slice(K, (indI2, indJ), (ddh, l_total))\n",
        "        Q_slice = lax.dynamic_slice(Q, (indI2, indJ), (ddh, l_total))\n",
        "        V_slice = lax.dynamic_slice(V, (indI2, indJ), (ddh, l_total))\n",
        "\n",
        "        scores = K_slice.T @ Q_slice / jnp.sqrt(ddh)\n",
        "        E1 = softmax_jax(scores,mask=mask, axis=0)\n",
        "\n",
        "        result = V_slice @ E1\n",
        "        E2 = lax.dynamic_update_slice(E2, result, (indI2, indJ))\n",
        "        return E2, None\n",
        "\n",
        "    idxs = jnp.arange(b * h)\n",
        "    E2, _ = lax.scan(process_single_head, E2_init, idxs)\n",
        "    return E2\n",
        "\n",
        "def mha_output_jax(WO, E2, EI):\n",
        "    AO = WO @ E2 + EI\n",
        "    AO = lnorm_jax(AO)\n",
        "    return AO\n",
        "\n",
        "def ffn_forward_jax(W1, W2, AO):\n",
        "    E3b = W1 @ AO\n",
        "    E3 = gelu_jax(E3b)\n",
        "    EOb = W2 @ E3\n",
        "    EO = lnorm_jax(EOb + AO)\n",
        "    return EO\n",
        "\n",
        "\n",
        "# model : BERT Large\n",
        "\n",
        "\n",
        "b = 24\n",
        "l = 128\n",
        "d = 1024\n",
        "h = 16\n",
        "\n",
        "f = 4 * d\n",
        "ddh = d // h\n",
        "lb = b * l\n",
        "\n"
      ],
      "metadata": {
        "id": "4moC7HwQ4ZhS"
      },
      "execution_count": 5,
      "outputs": []
    },
    {
      "cell_type": "code",
      "source": [
        "# Generate input data\n",
        "\n",
        "key = jax.random.PRNGKey(0)\n",
        "keys = jax.random.split(key, 7)\n",
        "\n",
        "EI = (jax.random.uniform(keys[0], (d, lb), dtype=jnp.float32) )\n",
        "WQ = (jax.random.uniform(keys[1], (d, d), dtype=jnp.float32) )\n",
        "WK = (jax.random.uniform(keys[2], (d, d), dtype=jnp.float32) )\n",
        "WV = (jax.random.uniform(keys[3], (d, d), dtype=jnp.float32) )\n",
        "WO = (jax.random.uniform(keys[4], (d, d), dtype=jnp.float32) )\n",
        "W1 = (jax.random.uniform(keys[5], (f, d), dtype=jnp.float32) )\n",
        "W2 = (jax.random.uniform(keys[6], (d, f), dtype=jnp.float32) )\n",
        "\n",
        "# Convert to NumPy array\n",
        "EI_np, WQ_np, WK_np, WV_np, WO_np, W1_np, W2_np = map(np.array, [EI, WQ, WK, WV, WO, W1, W2])\n"
      ],
      "metadata": {
        "id": "CmMD86Jo5MAE"
      },
      "execution_count": 6,
      "outputs": []
    },
    {
      "cell_type": "code",
      "source": [
        "# NumPy\n",
        "\n",
        "\n",
        "results={}\n",
        "results[\"NumPy\"] = {}\n",
        "\n",
        "#warmup\n",
        "Qc = matmul_np(WQ_np, EI_np)\n",
        "\n",
        "start = time.time()\n",
        "Qc = matmul_np(WQ_np, EI_np)\n",
        "\n",
        "end = time.time()\n",
        "results[\"NumPy\"][\"matmul_Q\"] = end - start\n",
        "\n",
        "start = time.time()\n",
        "Kc = matmul_np(WK_np, EI_np)\n",
        "\n",
        "end = time.time()\n",
        "results[\"NumPy\"][\"matmul_K\"] = end - start\n",
        "\n",
        "start = time.time()\n",
        "Vc = matmul_np(WV_np, EI_np)\n",
        "\n",
        "end = time.time()\n",
        "results[\"NumPy\"][\"matmul_V\"] = end - start\n",
        "\n",
        "start = time.time()\n",
        "E2n = attention_per_head_decoder_np(Kc, Qc, Vc, l, ddh, b, h)\n",
        "\n",
        "end = time.time()\n",
        "results[\"NumPy\"][\"attention\"] = end - start\n",
        "\n",
        "start = time.time()\n",
        "AOc = mha_output_np(WO_np, E2n, EI_np)\n",
        "\n",
        "end = time.time()\n",
        "results[\"NumPy\"][\"mha_output\"] = end - start\n",
        "\n",
        "start = time.time()\n",
        "EOc = ffn_forward_np(W1_np, W2_np, AOc)\n",
        "\n",
        "end = time.time()\n",
        "results[\"NumPy\"][\"ffn\"] = end - start\n",
        "\n",
        "results[\"NumPy\"][\"total\"] = sum(results[\"NumPy\"].values())\n",
        "print(results[\"NumPy\"])"
      ],
      "metadata": {
        "id": "eLeKFRau294p",
        "colab": {
          "base_uri": "https://localhost:8080/"
        },
        "outputId": "fea0cc46-1527-4e54-a458-a3b21b93932f"
      },
      "execution_count": 9,
      "outputs": [
        {
          "output_type": "stream",
          "name": "stdout",
          "text": [
            "{'matmul_Q': 0.1860032081604004, 'matmul_K': 0.23597335815429688, 'matmul_V': 0.18623042106628418, 'attention': 0.7538952827453613, 'mha_output': 0.12126874923706055, 'ffn': 2.432279348373413, 'total': 3.9156503677368164}\n"
          ]
        }
      ]
    },
    {
      "cell_type": "code",
      "source": [
        "\n",
        "K_cache=None\n",
        "V_cache=None\n",
        "# JAX sin JIT\n",
        "results[\"JAX\"] = {}\n",
        "\n",
        "\n",
        "Qj = matmul_jax(WQ,  EI).block_until_ready()\n",
        "start = time.time()\n",
        "Qj = matmul_jax(WQ,  EI).block_until_ready()\n",
        "end = time.time()\n",
        "results[\"JAX\"][\"matmul_Q\"] = end - start\n",
        "\n",
        "start = time.time()\n",
        "Kj = matmul_jax(WK,  EI).block_until_ready()\n",
        "end = time.time()\n",
        "results[\"JAX\"][\"matmul_K\"] = end - start\n",
        "\n",
        "start = time.time()\n",
        "Vj = matmul_jax(WV,  EI).block_until_ready()\n",
        "end = time.time()\n",
        "results[\"JAX\"][\"matmul_V\"] = end - start\n",
        "\n",
        "start = time.time()\n",
        "E2j = attention_per_head_decoder_jax(Kj, Qj, Vj, l, ddh, b, h).block_until_ready()\n",
        "end = time.time()\n",
        "results[\"JAX\"][\"attention\"] = end - start\n",
        "\n",
        "start = time.time()\n",
        "AOj = mha_output_jax(WO, E2j, EI).block_until_ready()\n",
        "end = time.time()\n",
        "results[\"JAX\"][\"mha_output\"] = end - start\n",
        "\n",
        "start = time.time()\n",
        "EOj = ffn_forward_jax(W1, W2, AOj).block_until_ready()\n",
        "end = time.time()\n",
        "results[\"JAX\"][\"ffn\"] = end - start\n",
        "\n",
        "results[\"JAX\"][\"total\"] = sum(results[\"JAX\"].values())\n",
        "\n",
        "print(results[\"JAX\"])\n"
      ],
      "metadata": {
        "id": "3_q9_NcknU5l",
        "colab": {
          "base_uri": "https://localhost:8080/"
        },
        "outputId": "f8b15869-f259-4f9a-d9bd-cde4dfa2500a"
      },
      "execution_count": 10,
      "outputs": [
        {
          "output_type": "stream",
          "name": "stdout",
          "text": [
            "{'matmul_Q': 0.1183168888092041, 'matmul_K': 0.11646771430969238, 'matmul_V': 0.11843657493591309, 'attention': 0.4176034927368164, 'mha_output': 0.47606873512268066, 'ffn': 1.2998692989349365, 'total': 2.546762704849243}\n"
          ]
        }
      ]
    },
    {
      "cell_type": "code",
      "source": [
        "results[\"JIT-COMP\"] = {}\n",
        "\n",
        "# JIT\n",
        "\n",
        "matmul_jit= jax.jit(matmul_jax)\n",
        "\n",
        "attention_per_head_jit = jax.jit(attention_per_head_decoder_jax, static_argnums=(3, 4, 5, 6))\n",
        "mha_output_jit = jax.jit(mha_output_jax)\n",
        "ffn_forward_jit = jax.jit(ffn_forward_jax)\n",
        "\n",
        "\n",
        "\n",
        "start = time.time()\n",
        "Qj = matmul_jit(WQ,  EI).block_until_ready()\n",
        "end = time.time()\n",
        "results[\"JIT-COMP\"][\"matmul_Q\"] = end - start\n",
        "\n",
        "start = time.time()\n",
        "Kj = matmul_jit(WK,  EI).block_until_ready()\n",
        "end = time.time()\n",
        "results[\"JIT-COMP\"][\"matmul_K\"] = end - start\n",
        "\n",
        "start = time.time()\n",
        "\n",
        "Vj = matmul_jit(WV,  EI).block_until_ready()\n",
        "end = time.time()\n",
        "results[\"JIT-COMP\"][\"matmul_V\"] = end - start\n",
        "\n",
        "\n",
        "start_attention=  time.time()\n",
        "\n",
        "E2j = attention_per_head_jit(Kj, Qj, Vj, l, ddh, b, h).block_until_ready()\n",
        "end_attention = time.time()\n",
        "t = end_attention - start_attention\n",
        "results[\"JIT-COMP\"][\"attention\"] = t\n",
        "\n",
        "\n",
        "start_mha_output=  time.time()\n",
        "AOj = mha_output_jit(WO, E2j, EI).block_until_ready()\n",
        "end_mha_output = time.time()\n",
        "t= end_mha_output - start_mha_output\n",
        "results[\"JIT-COMP\"][\"mha_output\"] = t\n",
        "\n",
        "start_ffn=time.time()\n",
        "FFj = ffn_forward_jit(W1, W2, AOj).block_until_ready()\n",
        "end_ffn = time.time()\n",
        "t = end_ffn - start_ffn\n",
        "\n",
        "results[\"JIT-COMP\"][\"ffn\"] = t\n",
        "\n",
        "results[\"JIT-COMP\"][\"total\"] = sum(results[\"JIT-COMP\"].values())\n",
        "\n"
      ],
      "metadata": {
        "id": "ifRJ7B9lnSDy"
      },
      "execution_count": 11,
      "outputs": []
    },
    {
      "cell_type": "code",
      "source": [
        "print(results[\"JIT-COMP\"])"
      ],
      "metadata": {
        "colab": {
          "base_uri": "https://localhost:8080/"
        },
        "id": "z9rEuqM0bg8U",
        "outputId": "67902ba4-2a7c-4eb4-894a-47bc5456f939"
      },
      "execution_count": 12,
      "outputs": [
        {
          "output_type": "stream",
          "name": "stdout",
          "text": [
            "{'matmul_Q': 0.14442181587219238, 'matmul_K': 0.12234711647033691, 'matmul_V': 0.12852072715759277, 'attention': 0.34395551681518555, 'mha_output': 0.27461981773376465, 'ffn': 1.1140508651733398, 'total': 2.127915859222412}\n"
          ]
        }
      ]
    },
    {
      "cell_type": "code",
      "source": [
        "# JAX with JIT\n",
        "results[\"JAX-JIT\"] = {}\n",
        "Qj = matmul_jit(WQ,  EI).block_until_ready()\n",
        "start = time.time()\n",
        "Qj = matmul_jit(WQ,  EI).block_until_ready()\n",
        "end = time.time()\n",
        "results[\"JAX-JIT\"][\"matmul_Q\"] = end - start\n",
        "\n",
        "start = time.time()\n",
        "Kj = matmul_jit(WK,  EI).block_until_ready()\n",
        "end = time.time()\n",
        "results[\"JAX-JIT\"][\"matmul_K\"] = end - start\n",
        "\n",
        "start = time.time()\n",
        "Vj = matmul_jit(WV,  EI).block_until_ready()\n",
        "end = time.time()\n",
        "results[\"JAX-JIT\"][\"matmul_V\"] = end - start\n",
        "\n",
        "\n",
        "start_attention=  time.time()\n",
        "\n",
        "E2j = attention_per_head_jit(Kj, Qj, Vj, l, ddh, b, h).block_until_ready()\n",
        "end_attention = time.time()\n",
        "t = end_attention - start_attention\n",
        "results[\"JAX-JIT\"][\"attention\"] = t\n",
        "\n",
        "\n",
        "start_mha_output=  time.time()\n",
        "AOj = mha_output_jit(WO, E2j, EI).block_until_ready()\n",
        "end_mha_output = time.time()\n",
        "t= end_mha_output - start_mha_output\n",
        "results[\"JAX-JIT\"][\"mha_output\"] = t\n",
        "\n",
        "\n",
        "start_ffn=time.time()\n",
        "FFj = ffn_forward_jit(W1, W2, AOj).block_until_ready()\n",
        "end_ffn = time.time()\n",
        "t = end_ffn - start_ffn\n",
        "results[\"JAX-JIT\"][\"ffn\"] = t\n",
        "\n",
        "results[\"JAX-JIT\"][\"total\"] = sum(results[\"JAX-JIT\"].values())"
      ],
      "metadata": {
        "id": "Dv2oezSpqMI3"
      },
      "execution_count": 13,
      "outputs": []
    },
    {
      "cell_type": "code",
      "source": [
        "print(results[\"JAX-JIT\"])"
      ],
      "metadata": {
        "colab": {
          "base_uri": "https://localhost:8080/"
        },
        "id": "RbIry062bm01",
        "outputId": "3754b47e-e1bf-4820-afe4-b87624b3040b"
      },
      "execution_count": 14,
      "outputs": [
        {
          "output_type": "stream",
          "name": "stdout",
          "text": [
            "{'matmul_Q': 0.11817193031311035, 'matmul_K': 0.1289825439453125, 'matmul_V': 0.12228727340698242, 'attention': 0.059716224670410156, 'mha_output': 0.12677788734436035, 'ffn': 0.9471828937530518, 'total': 1.5031187534332275}\n"
          ]
        }
      ]
    },
    {
      "cell_type": "code",
      "source": [
        "print(results.keys())\n"
      ],
      "metadata": {
        "id": "orNYr0dkoBSD",
        "colab": {
          "base_uri": "https://localhost:8080/"
        },
        "outputId": "f41c1f00-cf6c-4b3a-8563-24df97690e62"
      },
      "execution_count": 15,
      "outputs": [
        {
          "output_type": "stream",
          "name": "stdout",
          "text": [
            "dict_keys(['NumPy', 'JAX', 'JIT-COMP', 'JAX-JIT'])\n"
          ]
        }
      ]
    },
    {
      "cell_type": "code",
      "source": [
        "\n",
        "\n",
        "labels = [\"matmul_Q\",\"matmul_K\",\"matmul_V\", \"attention\", \"mha_output\", \"ffn\"]\n",
        "x = np.arange(len(labels))\n",
        "width = 0.20\n",
        "\n",
        "fig, ax = plt.subplots(figsize=(12, 6))\n",
        "\n",
        "ax.bar(x - 1*width, [results[\"NumPy\"][l] for l in labels], width, label='NumPy')\n",
        "ax.bar(x - 0*width, [results[\"JAX\"][l] for l in labels], width, label='JAX')\n",
        "#ax.bar(x + 0.5*width, [results[\"JIT-COMP\"][l] for l in labels], width, label='JIT-COMP')\n",
        "ax.bar(x + 1*width, [results[\"JAX-JIT\"][l] for l in labels], width, label='JAX-JIT')\n",
        "\n",
        "ax.set_ylabel('Time (s)')\n",
        "ax.set_title('Time per function and implementation for the decoder using FP32 on CPU')\n",
        "ax.set_xticks(x)\n",
        "ax.set_xticklabels(labels)\n",
        "ax.legend()\n",
        "\n",
        "\n",
        "ax.grid(True, axis='y', linestyle='--', alpha=0.6)\n",
        "plt.tight_layout()\n",
        "\n",
        "\n",
        "plt.show()"
      ],
      "metadata": {
        "id": "FTVlGqDTxA1s",
        "colab": {
          "base_uri": "https://localhost:8080/",
          "height": 607
        },
        "outputId": "e6469e40-aa7b-4f73-b3f2-2c4640e661e8"
      },
      "execution_count": 16,
      "outputs": [
        {
          "output_type": "display_data",
          "data": {
            "text/plain": [
              "<Figure size 1200x600 with 1 Axes>"
            ],
            "image/png": "[encoded data removed]"
          },
          "metadata": {}
        }
      ]
    },
    {
      "cell_type": "code",
      "source": [
        "\n",
        "\n",
        "\n",
        "labels = [\"NumPy\", \"JAX\",\"JAX-JIT\"]\n",
        "x = np.arange(len(labels))\n",
        "width = 0.6\n",
        "\n",
        "fig, ax = plt.subplots(figsize=(10, 6))\n",
        "\n",
        "ax.bar(x, [results[label][\"total\"] for label in labels], width,\n",
        "       color=['#1f77b4', '#ff7f0e', '#2ca02c', '#d62728'])\n",
        "\n",
        "\n",
        "for i, label in enumerate(labels):\n",
        "    height = results[label][\"total\"]\n",
        "    ax.text(i, height + 0.01 * height, f'{height:.4f}s',\n",
        "            ha='center', va='bottom')\n",
        "\n",
        "ax.set_ylabel('Total time (s)')\n",
        "ax.set_title('Total time per implementation for the decoder using FP32 on CPU')\n",
        "ax.set_xticks(x)\n",
        "ax.set_xticklabels(labels)\n",
        "\n",
        "ax.grid(True, axis='y', linestyle='--', alpha=0.6)\n",
        "plt.tight_layout()\n",
        "\n",
        "\n",
        "plt.show()"
      ],
      "metadata": {
        "id": "sAMIGGIr2j7L",
        "colab": {
          "base_uri": "https://localhost:8080/",
          "height": 607
        },
        "outputId": "82f7a75d-2c2e-44f8-9567-b5aabb023632"
      },
      "execution_count": 17,
      "outputs": [
        {
          "output_type": "display_data",
          "data": {
            "text/plain": [
              "<Figure size 1000x600 with 1 Axes>"
            ],
            "image/png": "[encoded data removed]"
          },
          "metadata": {}
        }
      ]
    },
    {
      "cell_type": "code",
      "source": [
        "\n",
        "implementations = [\"NumPy\", \"JAX\", \"JAX-JIT\"]\n",
        "functions = [\"matmul_Q\", \"matmul_K\", \"matmul_V\", \"attention\", \"mha_output\", \"ffn\"]\n",
        "colors = plt.get_cmap(\"tab20\").colors\n",
        "\n",
        "x = np.arange(len(implementations))\n",
        "width = 0.6\n",
        "\n",
        "fig, ax = plt.subplots(figsize=(12, 6))\n",
        "\n",
        "\n",
        "bottom = np.zeros(len(implementations))\n",
        "\n",
        "\n",
        "for i, func in enumerate(functions):\n",
        "    values = [results[impl][func] for impl in implementations]\n",
        "    ax.bar(x, values, width, label=func, bottom=bottom, color=colors[i])\n",
        "    bottom += values\n",
        "\n",
        "\n",
        "for i, impl in enumerate(implementations):\n",
        "    total = sum(results[impl][func] for func in functions)\n",
        "    ax.text(i, total + 0.01 * total, f'{total:.4f}s', ha='center', va='bottom')\n",
        "\n",
        "\n",
        "ax.set_ylabel('Total time (s)')\n",
        "ax.set_title('Stacked times per function for each implementation for the decoder using FP32 on CPU')\n",
        "ax.set_xticks(x)\n",
        "ax.set_xticklabels(implementations)\n",
        "\n",
        "\n",
        "ax.legend(title=\"Functions\", bbox_to_anchor=(1.05, 1), loc='upper left')\n",
        "ax.grid(True, axis='y', linestyle='--', alpha=0.6)\n",
        "plt.tight_layout()\n",
        "\n",
        "plt.show()\n"
      ],
      "metadata": {
        "colab": {
          "base_uri": "https://localhost:8080/",
          "height": 607
        },
        "id": "_8JmRGXLeAc5",
        "outputId": "f66c5691-95f0-4a2a-fff2-856bdb958f6e"
      },
      "execution_count": 18,
      "outputs": [
        {
          "output_type": "display_data",
          "data": {
            "text/plain": [
              "<Figure size 1200x600 with 1 Axes>"
            ],
            "image/png": "[encoded data removed]"
          },
          "metadata": {}
        }
      ]
    },
    {
      "cell_type": "code",
      "source": [
        "df = pd.DataFrame(results).T"
      ],
      "metadata": {
        "id": "E6JvYVzyYcTY"
      },
      "execution_count": 19,
      "outputs": []
    },
    {
      "cell_type": "code",
      "source": [
        "cols_orden = [\"matmul_Q\", \"matmul_K\", \"matmul_V\", \"attention\", \"mha_output\", \"ffn\", \"total\"]\n",
        "df = df[cols_orden]"
      ],
      "metadata": {
        "id": "AiHwtyGrqtbP"
      },
      "execution_count": 20,
      "outputs": []
    },
    {
      "cell_type": "code",
      "source": [
        "\n",
        "\n",
        "display(df.style.format(\"{:.4f}\").set_caption(\"Time per fuction and implementation for the decoder using FP32 on CPU\"))\n",
        "\n",
        "\n",
        "\n"
      ],
      "metadata": {
        "colab": {
          "base_uri": "https://localhost:8080/",
          "height": 192
        },
        "id": "8oRV_3uBfmnX",
        "outputId": "8993b720-8eb1-446e-9fdb-0ebace217a67"
      },
      "execution_count": 21,
      "outputs": [
        {
          "output_type": "display_data",
          "data": {
            "text/plain": [
              "<pandas.io.formats.style.Styler at 0x7e097c268500>"
            ],
            "text/html": [
              "<style type=\"text/css\">\n",
              "</style>\n",
              "<table id=\"T_74268\" class=\"dataframe\">\n",
              "  <caption>Time per fuction and implementation for the decoder using FP32 on CPU</caption>\n",
              "  <thead>\n",
              "    <tr>\n",
              "      <th class=\"blank level0\" >&nbsp;</th>\n",
              "      <th id=\"T_74268_level0_col0\" class=\"col_heading level0 col0\" >matmul_Q</th>\n",
              "      <th id=\"T_74268_level0_col1\" class=\"col_heading level0 col1\" >matmul_K</th>\n",
              "      <th id=\"T_74268_level0_col2\" class=\"col_heading level0 col2\" >matmul_V</th>\n",
              "      <th id=\"T_74268_level0_col3\" class=\"col_heading level0 col3\" >attention</th>\n",
              "      <th id=\"T_74268_level0_col4\" class=\"col_heading level0 col4\" >mha_output</th>\n",
              "      <th id=\"T_74268_level0_col5\" class=\"col_heading level0 col5\" >ffn</th>\n",
              "      <th id=\"T_74268_level0_col6\" class=\"col_heading level0 col6\" >total</th>\n",
              "    </tr>\n",
              "  </thead>\n",
              "  <tbody>\n",
              "    <tr>\n",
              "      <th id=\"T_74268_level0_row0\" class=\"row_heading level0 row0\" >NumPy</th>\n",
              "      <td id=\"T_74268_row0_col0\" class=\"data row0 col0\" >0.1860</td>\n",
              "      <td id=\"T_74268_row0_col1\" class=\"data row0 col1\" >0.2360</td>\n",
              "      <td id=\"T_74268_row0_col2\" class=\"data row0 col2\" >0.1862</td>\n",
              "      <td id=\"T_74268_row0_col3\" class=\"data row0 col3\" >0.7539</td>\n",
              "      <td id=\"T_74268_row0_col4\" class=\"data row0 col4\" >0.1213</td>\n",
              "      <td id=\"T_74268_row0_col5\" class=\"data row0 col5\" >2.4323</td>\n",
              "      <td id=\"T_74268_row0_col6\" class=\"data row0 col6\" >3.9157</td>\n",
              "    </tr>\n",
              "    <tr>\n",
              "      <th id=\"T_74268_level0_row1\" class=\"row_heading level0 row1\" >JAX</th>\n",
              "      <td id=\"T_74268_row1_col0\" class=\"data row1 col0\" >0.1183</td>\n",
              "      <td id=\"T_74268_row1_col1\" class=\"data row1 col1\" >0.1165</td>\n",
              "      <td id=\"T_74268_row1_col2\" class=\"data row1 col2\" >0.1184</td>\n",
              "      <td id=\"T_74268_row1_col3\" class=\"data row1 col3\" >0.4176</td>\n",
              "      <td id=\"T_74268_row1_col4\" class=\"data row1 col4\" >0.4761</td>\n",
              "      <td id=\"T_74268_row1_col5\" class=\"data row1 col5\" >1.2999</td>\n",
              "      <td id=\"T_74268_row1_col6\" class=\"data row1 col6\" >2.5468</td>\n",
              "    </tr>\n",
              "    <tr>\n",
              "      <th id=\"T_74268_level0_row2\" class=\"row_heading level0 row2\" >JIT-COMP</th>\n",
              "      <td id=\"T_74268_row2_col0\" class=\"data row2 col0\" >0.1444</td>\n",
              "      <td id=\"T_74268_row2_col1\" class=\"data row2 col1\" >0.1223</td>\n",
              "      <td id=\"T_74268_row2_col2\" class=\"data row2 col2\" >0.1285</td>\n",
              "      <td id=\"T_74268_row2_col3\" class=\"data row2 col3\" >0.3440</td>\n",
              "      <td id=\"T_74268_row2_col4\" class=\"data row2 col4\" >0.2746</td>\n",
              "      <td id=\"T_74268_row2_col5\" class=\"data row2 col5\" >1.1141</td>\n",
              "      <td id=\"T_74268_row2_col6\" class=\"data row2 col6\" >2.1279</td>\n",
              "    </tr>\n",
              "    <tr>\n",
              "      <th id=\"T_74268_level0_row3\" class=\"row_heading level0 row3\" >JAX-JIT</th>\n",
              "      <td id=\"T_74268_row3_col0\" class=\"data row3 col0\" >0.1182</td>\n",
              "      <td id=\"T_74268_row3_col1\" class=\"data row3 col1\" >0.1290</td>\n",
              "      <td id=\"T_74268_row3_col2\" class=\"data row3 col2\" >0.1223</td>\n",
              "      <td id=\"T_74268_row3_col3\" class=\"data row3 col3\" >0.0597</td>\n",
              "      <td id=\"T_74268_row3_col4\" class=\"data row3 col4\" >0.1268</td>\n",
              "      <td id=\"T_74268_row3_col5\" class=\"data row3 col5\" >0.9472</td>\n",
              "      <td id=\"T_74268_row3_col6\" class=\"data row3 col6\" >1.5031</td>\n",
              "    </tr>\n",
              "  </tbody>\n",
              "</table>\n"
            ]
          },
          "metadata": {}
        }
      ]
    }
  ]
}