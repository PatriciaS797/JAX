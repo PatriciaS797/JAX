{
  "nbformat": 4,
  "nbformat_minor": 0,
  "metadata": {
    "colab": {
      "provenance": []
    },
    "kernelspec": {
      "name": "python3",
      "display_name": "Python 3"
    },
    "language_info": {
      "name": "python"
    }
  },
  "cells": [
    {
      "cell_type": "code",
      "source": [
        "pip install jax"
      ],
      "metadata": {
        "colab": {
          "base_uri": "https://localhost:8080/"
        },
        "id": "YIyWamZ_vQR4",
        "outputId": "1383b797-8965-4ae2-9961-a813fba81b91"
      },
      "execution_count": null,
      "outputs": [
        {
          "output_type": "stream",
          "name": "stdout",
          "text": [
            "Requirement already satisfied: jax in /usr/local/lib/python3.11/dist-packages (0.5.2)\n",
            "Requirement already satisfied: jaxlib<=0.5.2,>=0.5.1 in /usr/local/lib/python3.11/dist-packages (from jax) (0.5.1)\n",
            "Requirement already satisfied: ml_dtypes>=0.4.0 in /usr/local/lib/python3.11/dist-packages (from jax) (0.4.1)\n",
            "Requirement already satisfied: numpy>=1.25 in /usr/local/lib/python3.11/dist-packages (from jax) (2.0.2)\n",
            "Requirement already satisfied: opt_einsum in /usr/local/lib/python3.11/dist-packages (from jax) (3.4.0)\n",
            "Requirement already satisfied: scipy>=1.11.1 in /usr/local/lib/python3.11/dist-packages (from jax) (1.15.2)\n"
          ]
        }
      ]
    },
    {
      "cell_type": "code",
      "source": [
        "import jax\n",
        "import jax.numpy as jnp\n",
        "import time\n",
        "from functools import partial\n",
        "import jax.lax as lax\n",
        "\n",
        "# ====== BLOQUES COMO FUNCIONES ======\n",
        "\n",
        "def matmul_qkv(WQ, WK, WV, EI):\n",
        "    Q = WQ @ EI\n",
        "    K = WK @ EI\n",
        "    V = WV @ EI\n",
        "    return Q, K, V\n",
        "\n",
        "def attention_per_head(K, Q, V, l, ddh, b, h):\n",
        "    lb = l*b\n",
        "    d = K.shape[0]  # Obtenemos d de la dimensión de K\n",
        "\n",
        "    def process_single_head(carry, idx):\n",
        "        E2 = carry\n",
        "        j, i = idx // h, idx % h\n",
        "        indJ = j*l\n",
        "        indI2 = i*ddh\n",
        "\n",
        "        K_slice = lax.dynamic_slice(K, (indI2, indJ), (ddh, l))\n",
        "        Q_slice = lax.dynamic_slice(Q, (indI2, indJ), (ddh, l))\n",
        "        E1 = K_slice.T @ Q_slice\n",
        "\n",
        "        V_slice = lax.dynamic_slice(V, (indI2, indJ), (ddh, l))\n",
        "        result = V_slice @ E1\n",
        "        E2 = lax.dynamic_update_slice(E2, result, (indI2, indJ))\n",
        "\n",
        "        return E2, None\n",
        "\n",
        "    E2_init = jnp.zeros((d, lb), dtype=K.dtype)\n",
        "    idxs = jnp.arange(b * h)\n",
        "    E2, _ = lax.scan(process_single_head, E2_init, idxs)\n",
        "\n",
        "    return E2\n",
        "\n",
        "def mha_output(WO, E2, EI):\n",
        "    return EI + WO @ E2\n",
        "\n",
        "def ffn_forward(W1, W2, AO):\n",
        "    E3 = W1 @ AO\n",
        "    EO = AO + W2 @ E3\n",
        "    return EO\n",
        "\n",
        "# ====== FUNCION PRINCIPAL ======\n",
        "@partial(jax.jit, static_argnums=(0,1,2,3,4))\n",
        "def transformer_block_jax(b, l, d, h, f, EI, WQ, WK, WV, WO, W1, W2):\n",
        "    lb = l*b\n",
        "    ddh = d // h\n",
        "\n",
        "    Q, K, V = matmul_qkv(WQ, WK, WV, EI)\n",
        "    E2 = attention_per_head(K, Q, V, l, ddh, b, h)\n",
        "    AO = mha_output(WO, E2, EI)\n",
        "    EO = ffn_forward(W1, W2, AO)\n",
        "\n",
        "    return EO\n",
        "\n",
        "def generate_transformer_block_jax(b, l, d, h, f, key):\n",
        "    lb = l*b\n",
        "    k1, k2, k3, k4, k5, k6, k7 = jax.random.split(key, 7)\n",
        "\n",
        "    EI = jax.random.uniform(k1, (d, lb), minval=-0.5, maxval=0.5)\n",
        "    WQ = jax.random.uniform(k2, (d, d), minval=-0.5, maxval=0.5)\n",
        "    WK = jax.random.uniform(k3, (d, d), minval=-0.5, maxval=0.5)\n",
        "    WV = jax.random.uniform(k4, (d, d), minval=-0.5, maxval=0.5)\n",
        "    WO = jax.random.uniform(k5, (d, d), minval=-0.5, maxval=0.5)\n",
        "    W1 = jax.random.uniform(k6, (f, d), minval=-0.5, maxval=0.5)\n",
        "    W2 = jax.random.uniform(k7, (d, f), minval=-0.5, maxval=0.5)\n",
        "\n",
        "    return EI, WQ, WK, WV, WO, W1, W2\n",
        "\n",
        "# ====== USO FINAL ======\n",
        "\n",
        "b = 32\n",
        "l = 128\n",
        "d = 1024\n",
        "h = 16\n",
        "f = 4 * d\n",
        "key = jax.random.PRNGKey(0)\n",
        "\n",
        "# Generar los parámetros\n",
        "EI, WQ, WK, WV, WO, W1, W2 = generate_transformer_block_jax(b, l, d, h, f, key)\n",
        "\n",
        "transformer_block_jit = jax.jit(transformer_block_jax, static_argnums=(0,1,2,3,4))\n",
        "# Compilar la función (primera ejecución)\n",
        "start_compilado = time.time()\n",
        "EO = transformer_block_jit(b, l, d, h, f, EI, WQ, WK, WV, WO, W1, W2)\n",
        "EO.block_until_ready()\n",
        "end_compilado = time.time()\n",
        "\n",
        "print(f\"Tiempo de compilación: {end_compilado-start_compilado:.6f} s\")\n",
        "\n",
        "# Ejecución después de compilación\n",
        "start = time.time()\n",
        "EO = transformer_block_jit(b, l, d, h, f, EI, WQ, WK, WV, WO, W1, W2)\n",
        "EO.block_until_ready()\n",
        "end = time.time()\n",
        "\n",
        "print(f\"Tiempo de ejecución (compilado): {end-start:.6f} s\")"
      ],
      "metadata": {
        "colab": {
          "base_uri": "https://localhost:8080/"
        },
        "id": "AlHULEjDKa0s",
        "outputId": "b9e49e71-edfe-47f0-b7a7-67d477944b00"
      },
      "execution_count": null,
      "outputs": [
        {
          "output_type": "stream",
          "name": "stdout",
          "text": [
            "Tiempo de compilación: 4.590759 s\n",
            "Tiempo de ejecución (compilado): 3.753594 s\n"
          ]
        }
      ]
    }
  ]
}